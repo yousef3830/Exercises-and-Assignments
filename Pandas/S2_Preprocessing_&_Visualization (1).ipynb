{
 "cells": [
  {
   "cell_type": "markdown",
   "metadata": {
    "id": "Kamd2VLL-DJl"
   },
   "source": [
    "# Data Manipulation with Pandas"
   ]
  },
  {
   "cell_type": "markdown",
   "metadata": {
    "id": "DcPz-AmF-2De"
   },
   "source": [
    "**Creating Pandas Data Structures**"
   ]
  },
  {
   "cell_type": "markdown",
   "metadata": {
    "id": "BtSl5ehM-3bw"
   },
   "source": [
    "Creating a Pandas Series"
   ]
  },
  {
   "cell_type": "code",
   "execution_count": null,
   "metadata": {
    "colab": {
     "base_uri": "https://localhost:8080/"
    },
    "id": "fTYJl9he98rU",
    "outputId": "30b520a9-2338-4597-f82c-82d7bb17b3f6"
   },
   "outputs": [],
   "source": [
    "import pandas as pd\n",
    "\n",
    "# Creating a Series from a list\n",
    "series = pd.Series([10, 20, 30, 40, 50])\n",
    "print(series)\n"
   ]
  },
  {
   "cell_type": "markdown",
   "metadata": {
    "id": "on9A0knr-6Jv"
   },
   "source": [
    "Creating a DataFrame from a Dictionary"
   ]
  },
  {
   "cell_type": "code",
   "execution_count": null,
   "metadata": {
    "colab": {
     "base_uri": "https://localhost:8080/"
    },
    "id": "auU7hG4r-47H",
    "outputId": "cd68a539-32fc-49fa-cfcf-de979025ffbd"
   },
   "outputs": [],
   "source": [
    "data = {'Name': ['Alice', 'Bob', 'Charlie'],\n",
    "        'Age': [25, 30, 35],\n",
    "        'City': ['New York', 'Los Angeles', 'Chicago']}\n",
    "df = pd.DataFrame(data)\n",
    "print(df)\n"
   ]
  },
  {
   "cell_type": "markdown",
   "metadata": {
    "id": "qoPwbeEN-8ot"
   },
   "source": [
    "**Viewing and Inspecting Data**"
   ]
  },
  {
   "cell_type": "markdown",
   "metadata": {
    "id": "Tulesduv-9LM"
   },
   "source": [
    "Viewing the First Few Rows"
   ]
  },
  {
   "cell_type": "code",
   "execution_count": null,
   "metadata": {
    "colab": {
     "base_uri": "https://localhost:8080/",
     "height": 143
    },
    "id": "1J24CxbU--3f",
    "outputId": "b9e2b3b3-655f-4da0-8a6b-e44de079a9c5"
   },
   "outputs": [],
   "source": [
    "df.head()"
   ]
  },
  {
   "cell_type": "markdown",
   "metadata": {
    "id": "np-tYSFO_DqI"
   },
   "source": [
    "Getting DataFrame Information"
   ]
  },
  {
   "cell_type": "code",
   "execution_count": null,
   "metadata": {
    "colab": {
     "base_uri": "https://localhost:8080/"
    },
    "id": "pHIXDVUv_DXD",
    "outputId": "e91f4ee2-81b9-440a-a54a-af465f221f05"
   },
   "outputs": [],
   "source": [
    "df.info()"
   ]
  },
  {
   "cell_type": "markdown",
   "metadata": {
    "id": "73-9frTT_Gyx"
   },
   "source": [
    "Describing Statistical Information"
   ]
  },
  {
   "cell_type": "code",
   "execution_count": null,
   "metadata": {
    "colab": {
     "base_uri": "https://localhost:8080/",
     "height": 300
    },
    "id": "lX3zBvvg_GuG",
    "outputId": "1197d287-24d5-449f-a8c6-2bda2050a931"
   },
   "outputs": [],
   "source": [
    "df.describe()"
   ]
  },
  {
   "cell_type": "markdown",
   "metadata": {
    "id": "0D0qbYha_Kjr"
   },
   "source": [
    "**Selecting and Filtering Data**"
   ]
  },
  {
   "cell_type": "markdown",
   "metadata": {
    "id": "YTwtEq1S_MYr"
   },
   "source": [
    "Selecting Columns"
   ]
  },
  {
   "cell_type": "code",
   "execution_count": null,
   "metadata": {
    "colab": {
     "base_uri": "https://localhost:8080/"
    },
    "id": "VnsPyoOz_LMx",
    "outputId": "4676a185-55b8-466e-cffe-bf27d56300e1"
   },
   "outputs": [],
   "source": [
    "print(df['Name'])"
   ]
  },
  {
   "cell_type": "markdown",
   "metadata": {
    "id": "pR1IMSTN_PkG"
   },
   "source": [
    "Filtering Rows Based on Condition"
   ]
  },
  {
   "cell_type": "code",
   "execution_count": null,
   "metadata": {
    "colab": {
     "base_uri": "https://localhost:8080/"
    },
    "id": "uxTAXjEL_QZz",
    "outputId": "a202fae2-daad-4c2b-8fbc-dcb51a260fb5"
   },
   "outputs": [],
   "source": [
    "filtered_df = df[df['Age'] > 30]\n",
    "print(filtered_df)\n"
   ]
  },
  {
   "cell_type": "markdown",
   "metadata": {
    "id": "UWXPU5Rc_TA-"
   },
   "source": [
    "Selecting Specific Rows and Columns"
   ]
  },
  {
   "cell_type": "code",
   "execution_count": null,
   "metadata": {
    "colab": {
     "base_uri": "https://localhost:8080/"
    },
    "id": "LqTY20V9_S87",
    "outputId": "eae88fb1-b23f-4527-da79-48e7e4b90046"
   },
   "outputs": [],
   "source": [
    "selected_data = df.loc[0:1, ['Name', 'City']]\n",
    "print(selected_data)\n"
   ]
  },
  {
   "cell_type": "markdown",
   "metadata": {
    "id": "_pvVW8i6_VRU"
   },
   "source": [
    "**Modifying Data**\n"
   ]
  },
  {
   "cell_type": "markdown",
   "metadata": {
    "id": "B3Z2ks2T_V3T"
   },
   "source": [
    "Adding a New Column"
   ]
  },
  {
   "cell_type": "code",
   "execution_count": null,
   "metadata": {
    "colab": {
     "base_uri": "https://localhost:8080/"
    },
    "id": "t1Oi2Rum_Xex",
    "outputId": "6687c12b-b562-4e99-dce2-eb1207ee1e91"
   },
   "outputs": [],
   "source": [
    "df['Salary'] = [70000, 80000, 90000]\n",
    "print(df)\n"
   ]
  },
  {
   "cell_type": "markdown",
   "metadata": {
    "id": "uhArsBzg_aGN"
   },
   "source": [
    "Updating Column Values"
   ]
  },
  {
   "cell_type": "code",
   "execution_count": null,
   "metadata": {
    "colab": {
     "base_uri": "https://localhost:8080/"
    },
    "id": "azpZBH5z_aBb",
    "outputId": "5350fc87-08a0-4ab2-d9fd-b05170578237"
   },
   "outputs": [],
   "source": [
    "df['Age'] = df['Age'] + 1\n",
    "print(df)\n"
   ]
  },
  {
   "cell_type": "markdown",
   "metadata": {
    "id": "AKCDnEqX_cpT"
   },
   "source": [
    "Dropping Columns"
   ]
  },
  {
   "cell_type": "code",
   "execution_count": null,
   "metadata": {
    "colab": {
     "base_uri": "https://localhost:8080/"
    },
    "id": "1bhuyjSF_clR",
    "outputId": "47cc3b48-8baa-441f-b8b4-fdf05bd0ab6b"
   },
   "outputs": [],
   "source": [
    "df = df.drop('City', axis=1)\n",
    "print(df)\n"
   ]
  },
  {
   "cell_type": "markdown",
   "metadata": {
    "id": "PNcNXqX9_e_K"
   },
   "source": [
    "**Handling Missing Data**"
   ]
  },
  {
   "cell_type": "markdown",
   "metadata": {
    "id": "nzHl9m_5_g3o"
   },
   "source": [
    "Detecting Missing Values"
   ]
  },
  {
   "cell_type": "code",
   "execution_count": null,
   "metadata": {
    "colab": {
     "base_uri": "https://localhost:8080/"
    },
    "id": "uftzoRJG_e6i",
    "outputId": "a3c2504e-643f-4805-a7cf-893b2d0d3e92"
   },
   "outputs": [],
   "source": [
    "df_with_nan = pd.DataFrame({'A': [1, 2, None], 'B': [4, None, 6]})\n",
    "print(df_with_nan.isnull())"
   ]
  },
  {
   "cell_type": "markdown",
   "metadata": {
    "id": "xsOvlPdJ_joI"
   },
   "source": [
    "Filling Missing Values"
   ]
  },
  {
   "cell_type": "code",
   "execution_count": null,
   "metadata": {
    "colab": {
     "base_uri": "https://localhost:8080/"
    },
    "id": "k0YYU79t_jj1",
    "outputId": "044c42c3-ddf7-4d06-acdf-877ccf2ab26b"
   },
   "outputs": [],
   "source": [
    "filled_df = df_with_nan.fillna(0)\n",
    "print(filled_df)\n"
   ]
  },
  {
   "cell_type": "markdown",
   "metadata": {
    "id": "jDaCKL_D_mEb"
   },
   "source": [
    "Dropping Rows with Missing Values"
   ]
  },
  {
   "cell_type": "code",
   "execution_count": null,
   "metadata": {
    "colab": {
     "base_uri": "https://localhost:8080/"
    },
    "id": "PPXCpdpT_mRG",
    "outputId": "1979d20b-c02c-451e-b05e-8fe49fbc2df0"
   },
   "outputs": [],
   "source": [
    "cleaned_df = df_with_nan.dropna()\n",
    "print(cleaned_df)"
   ]
  },
  {
   "cell_type": "markdown",
   "metadata": {
    "id": "JgGAfE8N_uz5"
   },
   "source": [
    "**Grouping and Aggregation**\n"
   ]
  },
  {
   "cell_type": "markdown",
   "metadata": {
    "id": "rP7FsLJ5_wSw"
   },
   "source": [
    "Grouping Data and Calculating Mean"
   ]
  },
  {
   "cell_type": "code",
   "execution_count": null,
   "metadata": {
    "colab": {
     "base_uri": "https://localhost:8080/"
    },
    "id": "ncnzn9NZ_uwF",
    "outputId": "ad7fd55f-c484-40cb-8604-abf7d3be2415"
   },
   "outputs": [],
   "source": [
    "df = pd.DataFrame({'Department': ['HR', 'IT', 'HR', 'IT'],\n",
    "                   'Salary': [50000, 60000, 45000, 80000]})\n",
    "grouped = df.groupby('Department').mean()\n",
    "print(grouped)\n"
   ]
  },
  {
   "cell_type": "markdown",
   "metadata": {
    "id": "GF0P5_B6_y1e"
   },
   "source": [
    "Applying Custom Functions with apply()"
   ]
  },
  {
   "cell_type": "code",
   "execution_count": null,
   "metadata": {
    "colab": {
     "base_uri": "https://localhost:8080/"
    },
    "id": "_LGE4b8W_zKj",
    "outputId": "15523b84-0177-452a-fceb-d7bdee1115c5"
   },
   "outputs": [],
   "source": [
    "def double_salary(x):\n",
    "    return x * 2\n",
    "\n",
    "df['Double Salary'] = df['Salary'].apply(double_salary)\n",
    "print(df)"
   ]
  },
  {
   "cell_type": "markdown",
   "metadata": {
    "id": "H7nr3XBV-E80"
   },
   "source": [
    " # Practical Examples"
   ]
  },
  {
   "cell_type": "code",
   "execution_count": null,
   "metadata": {
    "id": "ziAaExqc-E4u"
   },
   "outputs": [],
   "source": [
    "import pandas as pd\n",
    "\n",
    "# Load the CSV file into a Pandas DataFrame\n",
    "df = pd.read_csv('employees.csv')"
   ]
  },
  {
   "cell_type": "markdown",
   "metadata": {
    "id": "bOGR2ORpEHbg"
   },
   "source": [
    "Viewing the First Few Rows of the DataFrame"
   ]
  },
  {
   "cell_type": "code",
   "execution_count": null,
   "metadata": {
    "colab": {
     "base_uri": "https://localhost:8080/",
     "height": 241
    },
    "id": "XU-_e9NJDdvP",
    "outputId": "03c9e4db-fe2e-45a1-d8a2-2910d5cd38d6"
   },
   "outputs": [],
   "source": [
    "print(\"First 5 Rows:\\n\")\n",
    "df.head()"
   ]
  },
  {
   "cell_type": "markdown",
   "metadata": {
    "id": "z0eQIjaBEM2k"
   },
   "source": [
    "Displaying Basic Information About the DataFrame"
   ]
  },
  {
   "cell_type": "code",
   "execution_count": null,
   "metadata": {
    "colab": {
     "base_uri": "https://localhost:8080/"
    },
    "id": "jkLfHpjNEIqP",
    "outputId": "36d200c5-cb57-471e-8bb3-a8fb85948f5d"
   },
   "outputs": [],
   "source": [
    "print(\"DataFrame Information:\\n\")\n",
    "df.info()"
   ]
  },
  {
   "cell_type": "markdown",
   "metadata": {
    "id": "1pnFWswyEYeg"
   },
   "source": [
    "Calculating Basic Statistics for Numerical Columns"
   ]
  },
  {
   "cell_type": "code",
   "execution_count": null,
   "metadata": {
    "colab": {
     "base_uri": "https://localhost:8080/",
     "height": 335
    },
    "id": "-bvqRHVcENwv",
    "outputId": "68a81f14-aa67-45bf-c6fb-167692edc6f4"
   },
   "outputs": [],
   "source": [
    "print(\"Statistical Summary:\\n\")\n",
    "df.describe()"
   ]
  },
  {
   "cell_type": "markdown",
   "metadata": {
    "id": "Uu65jdeWEdnt"
   },
   "source": [
    "Filtering Employees by Department"
   ]
  },
  {
   "cell_type": "code",
   "execution_count": null,
   "metadata": {
    "colab": {
     "base_uri": "https://localhost:8080/",
     "height": 178
    },
    "id": "zUagZfhYEZd_",
    "outputId": "1e9826b8-c10c-45db-ac08-ecdf301906fb"
   },
   "outputs": [],
   "source": [
    "it_employees = df[df['Department'] == 'IT']\n",
    "print(\"IT Department Employees:\\n\")\n",
    "it_employees.head()"
   ]
  },
  {
   "cell_type": "markdown",
   "metadata": {
    "id": "m5ORSu8_Eu3T"
   },
   "source": [
    "Calculating the Average Salary by Department"
   ]
  },
  {
   "cell_type": "code",
   "execution_count": null,
   "metadata": {
    "colab": {
     "base_uri": "https://localhost:8080/",
     "height": 276
    },
    "id": "2uyTp-ssEezH",
    "outputId": "9d66a882-af48-4162-ec9e-cf881846c643"
   },
   "outputs": [],
   "source": [
    "average_salary_by_dept = df.groupby('Department')['Salary'].mean()\n",
    "print(\"Average Salary by Department:\\n\")\n",
    "average_salary_by_dept.head()"
   ]
  },
  {
   "cell_type": "markdown",
   "metadata": {
    "id": "jSVzPVKoE0nK"
   },
   "source": [
    " Adding a New Column for Salary After a 5% Raise"
   ]
  },
  {
   "cell_type": "code",
   "execution_count": null,
   "metadata": {
    "colab": {
     "base_uri": "https://localhost:8080/",
     "height": 241
    },
    "id": "r_uZNBTwEy7g",
    "outputId": "018e5027-1c13-4ffe-bc11-3b449046f886"
   },
   "outputs": [],
   "source": [
    "df['Salary_After_Raise'] = df['Salary'] * 1.05\n",
    "print(\"DataFrame with Salary After Raise:\\n\" )\n",
    "df.head()"
   ]
  },
  {
   "cell_type": "markdown",
   "metadata": {
    "id": "x_A_9X4oE6DW"
   },
   "source": [
    "Sorting Employees by Age in Descending Order"
   ]
  },
  {
   "cell_type": "code",
   "execution_count": null,
   "metadata": {
    "colab": {
     "base_uri": "https://localhost:8080/",
     "height": 241
    },
    "id": "wSeFaKOaE31Q",
    "outputId": "a85f8221-d3e8-45e8-ed20-30b475a6287c"
   },
   "outputs": [],
   "source": [
    "sorted_by_age = df.sort_values(by='Age', ascending=False)\n",
    "print(\"Employees Sorted by Age (Descending):\\n\")\n",
    "sorted_by_age.head()"
   ]
  },
  {
   "cell_type": "markdown",
   "metadata": {
    "id": "n4IkXRq5FB2p"
   },
   "source": [
    "Calculating the Number of Employees in Each Department"
   ]
  },
  {
   "cell_type": "code",
   "execution_count": null,
   "metadata": {
    "colab": {
     "base_uri": "https://localhost:8080/",
     "height": 276
    },
    "id": "Vtmet9GYFALQ",
    "outputId": "7317152d-c4c9-407c-ab2f-87e3c43b1bbb"
   },
   "outputs": [],
   "source": [
    "employee_count_by_dept = df['Department'].value_counts()\n",
    "print(\"Number of Employees by Department:\\n\")\n",
    "employee_count_by_dept.head()\n"
   ]
  },
  {
   "cell_type": "markdown",
   "metadata": {
    "id": "Qe2hnMNGFF1i"
   },
   "source": [
    "Finding Employees Who Joined After 2020"
   ]
  },
  {
   "cell_type": "code",
   "execution_count": null,
   "metadata": {
    "colab": {
     "base_uri": "https://localhost:8080/",
     "height": 241
    },
    "id": "TwYUslSOFEGA",
    "outputId": "1efdd02f-6423-424d-8da0-f9a75992ff3d"
   },
   "outputs": [],
   "source": [
    "df['Joining_Date'] = pd.to_datetime(df['Joining_Date'])\n",
    "recent_joins = df[df['Joining_Date'] > '2020-01-01']\n",
    "print(\"Employees Joined After 2020:\\n\")\n",
    "recent_joins.head()"
   ]
  },
  {
   "cell_type": "markdown",
   "metadata": {
    "id": "Vb4MyyNsFK1s"
   },
   "source": [
    "Saving the Filtered DataFrame to a New CSV File"
   ]
  },
  {
   "cell_type": "code",
   "execution_count": null,
   "metadata": {
    "colab": {
     "base_uri": "https://localhost:8080/"
    },
    "id": "cCZ3dyTAFIhT",
    "outputId": "8a73638e-4f67-426c-ad3d-5662536db77e"
   },
   "outputs": [],
   "source": [
    "recent_joins.to_csv('recent_joins.csv', index=False)\n",
    "print(\"Filtered data saved to recent_joins.csv.\")"
   ]
  }
 ],
 "metadata": {
  "colab": {
   "collapsed_sections": [
    "Kamd2VLL-DJl"
   ],
   "provenance": []
  },
  "kernelspec": {
   "display_name": "Python 3 (ipykernel)",
   "language": "python",
   "name": "python3"
  },
  "language_info": {
   "codemirror_mode": {
    "name": "ipython",
    "version": 3
   },
   "file_extension": ".py",
   "mimetype": "text/x-python",
   "name": "python",
   "nbconvert_exporter": "python",
   "pygments_lexer": "ipython3",
   "version": "3.12.7"
  }
 },
 "nbformat": 4,
 "nbformat_minor": 4
}
