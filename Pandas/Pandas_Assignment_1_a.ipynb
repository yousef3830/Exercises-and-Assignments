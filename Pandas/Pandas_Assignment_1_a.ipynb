{
  "cells": [
    {
      "cell_type": "markdown",
      "metadata": {
        "id": "view-in-github",
        "colab_type": "text"
      },
      "source": [
        "<a href=\"https://colab.research.google.com/github/yousef3830/Exercises-and-Assignments/blob/main/Pandas/Pandas_Assignment_1_a.ipynb\" target=\"_parent\"><img src=\"https://colab.research.google.com/assets/colab-badge.svg\" alt=\"Open In Colab\"/></a>"
      ]
    },
    {
      "cell_type": "markdown",
      "metadata": {
        "id": "-h0d2HrcstdJ"
      },
      "source": [
        "## Loading/Exploring the data\n",
        "\n",
        "Load the iris.csv file into a pandas dataframe. Take a minute to familiarize yourself with the data."
      ]
    },
    {
      "cell_type": "markdown",
      "metadata": {
        "id": "y73G8SDPstdM"
      },
      "source": [
        "## Import Pandas\n",
        "\n",
        "Import the `pandas` library as `pd`"
      ]
    },
    {
      "cell_type": "code",
      "execution_count": 21,
      "metadata": {
        "id": "VqIp-mHHstdN"
      },
      "outputs": [],
      "source": [
        "import pandas as pd"
      ]
    },
    {
      "cell_type": "markdown",
      "metadata": {
        "id": "5bHHGq5EstdP"
      },
      "source": [
        "Read the `iris.csv` dataset into an object named `iris`"
      ]
    },
    {
      "cell_type": "code",
      "execution_count": 22,
      "metadata": {
        "id": "J2Tsttz6stdP"
      },
      "outputs": [],
      "source": [
        "iris_df = pd.read_csv(\"/content/iris 1.csv\")"
      ]
    },
    {
      "cell_type": "markdown",
      "metadata": {
        "id": "OnouTG9cstdP"
      },
      "source": [
        "How many different species are in this dataset?"
      ]
    },
    {
      "cell_type": "code",
      "source": [
        "iris_df.head()"
      ],
      "metadata": {
        "colab": {
          "base_uri": "https://localhost:8080/",
          "height": 206
        },
        "id": "N1hIhkWztJ7s",
        "outputId": "dc62bd76-ef28-4a4c-e32c-bd2fd8a5c11b"
      },
      "execution_count": 23,
      "outputs": [
        {
          "output_type": "execute_result",
          "data": {
            "text/plain": [
              "   sepal length (cm)  sepal width (cm)  petal length (cm)  petal width (cm)  \\\n",
              "0                5.1               3.5                1.4               0.2   \n",
              "1                4.9               3.0                1.4               0.2   \n",
              "2                4.7               3.2                1.3               0.2   \n",
              "3                4.6               3.1                1.5               0.2   \n",
              "4                5.0               3.6                1.4               0.2   \n",
              "\n",
              "  species  \n",
              "0  setosa  \n",
              "1  setosa  \n",
              "2  setosa  \n",
              "3  setosa  \n",
              "4  setosa  "
            ],
            "text/html": [
              "\n",
              "  <div id=\"df-2a0fe704-7f21-499a-9d26-eb7a60ab2a3f\" class=\"colab-df-container\">\n",
              "    <div>\n",
              "<style scoped>\n",
              "    .dataframe tbody tr th:only-of-type {\n",
              "        vertical-align: middle;\n",
              "    }\n",
              "\n",
              "    .dataframe tbody tr th {\n",
              "        vertical-align: top;\n",
              "    }\n",
              "\n",
              "    .dataframe thead th {\n",
              "        text-align: right;\n",
              "    }\n",
              "</style>\n",
              "<table border=\"1\" class=\"dataframe\">\n",
              "  <thead>\n",
              "    <tr style=\"text-align: right;\">\n",
              "      <th></th>\n",
              "      <th>sepal length (cm)</th>\n",
              "      <th>sepal width (cm)</th>\n",
              "      <th>petal length (cm)</th>\n",
              "      <th>petal width (cm)</th>\n",
              "      <th>species</th>\n",
              "    </tr>\n",
              "  </thead>\n",
              "  <tbody>\n",
              "    <tr>\n",
              "      <th>0</th>\n",
              "      <td>5.1</td>\n",
              "      <td>3.5</td>\n",
              "      <td>1.4</td>\n",
              "      <td>0.2</td>\n",
              "      <td>setosa</td>\n",
              "    </tr>\n",
              "    <tr>\n",
              "      <th>1</th>\n",
              "      <td>4.9</td>\n",
              "      <td>3.0</td>\n",
              "      <td>1.4</td>\n",
              "      <td>0.2</td>\n",
              "      <td>setosa</td>\n",
              "    </tr>\n",
              "    <tr>\n",
              "      <th>2</th>\n",
              "      <td>4.7</td>\n",
              "      <td>3.2</td>\n",
              "      <td>1.3</td>\n",
              "      <td>0.2</td>\n",
              "      <td>setosa</td>\n",
              "    </tr>\n",
              "    <tr>\n",
              "      <th>3</th>\n",
              "      <td>4.6</td>\n",
              "      <td>3.1</td>\n",
              "      <td>1.5</td>\n",
              "      <td>0.2</td>\n",
              "      <td>setosa</td>\n",
              "    </tr>\n",
              "    <tr>\n",
              "      <th>4</th>\n",
              "      <td>5.0</td>\n",
              "      <td>3.6</td>\n",
              "      <td>1.4</td>\n",
              "      <td>0.2</td>\n",
              "      <td>setosa</td>\n",
              "    </tr>\n",
              "  </tbody>\n",
              "</table>\n",
              "</div>\n",
              "    <div class=\"colab-df-buttons\">\n",
              "\n",
              "  <div class=\"colab-df-container\">\n",
              "    <button class=\"colab-df-convert\" onclick=\"convertToInteractive('df-2a0fe704-7f21-499a-9d26-eb7a60ab2a3f')\"\n",
              "            title=\"Convert this dataframe to an interactive table.\"\n",
              "            style=\"display:none;\">\n",
              "\n",
              "  <svg xmlns=\"http://www.w3.org/2000/svg\" height=\"24px\" viewBox=\"0 -960 960 960\">\n",
              "    <path d=\"M120-120v-720h720v720H120Zm60-500h600v-160H180v160Zm220 220h160v-160H400v160Zm0 220h160v-160H400v160ZM180-400h160v-160H180v160Zm440 0h160v-160H620v160ZM180-180h160v-160H180v160Zm440 0h160v-160H620v160Z\"/>\n",
              "  </svg>\n",
              "    </button>\n",
              "\n",
              "  <style>\n",
              "    .colab-df-container {\n",
              "      display:flex;\n",
              "      gap: 12px;\n",
              "    }\n",
              "\n",
              "    .colab-df-convert {\n",
              "      background-color: #E8F0FE;\n",
              "      border: none;\n",
              "      border-radius: 50%;\n",
              "      cursor: pointer;\n",
              "      display: none;\n",
              "      fill: #1967D2;\n",
              "      height: 32px;\n",
              "      padding: 0 0 0 0;\n",
              "      width: 32px;\n",
              "    }\n",
              "\n",
              "    .colab-df-convert:hover {\n",
              "      background-color: #E2EBFA;\n",
              "      box-shadow: 0px 1px 2px rgba(60, 64, 67, 0.3), 0px 1px 3px 1px rgba(60, 64, 67, 0.15);\n",
              "      fill: #174EA6;\n",
              "    }\n",
              "\n",
              "    .colab-df-buttons div {\n",
              "      margin-bottom: 4px;\n",
              "    }\n",
              "\n",
              "    [theme=dark] .colab-df-convert {\n",
              "      background-color: #3B4455;\n",
              "      fill: #D2E3FC;\n",
              "    }\n",
              "\n",
              "    [theme=dark] .colab-df-convert:hover {\n",
              "      background-color: #434B5C;\n",
              "      box-shadow: 0px 1px 3px 1px rgba(0, 0, 0, 0.15);\n",
              "      filter: drop-shadow(0px 1px 2px rgba(0, 0, 0, 0.3));\n",
              "      fill: #FFFFFF;\n",
              "    }\n",
              "  </style>\n",
              "\n",
              "    <script>\n",
              "      const buttonEl =\n",
              "        document.querySelector('#df-2a0fe704-7f21-499a-9d26-eb7a60ab2a3f button.colab-df-convert');\n",
              "      buttonEl.style.display =\n",
              "        google.colab.kernel.accessAllowed ? 'block' : 'none';\n",
              "\n",
              "      async function convertToInteractive(key) {\n",
              "        const element = document.querySelector('#df-2a0fe704-7f21-499a-9d26-eb7a60ab2a3f');\n",
              "        const dataTable =\n",
              "          await google.colab.kernel.invokeFunction('convertToInteractive',\n",
              "                                                    [key], {});\n",
              "        if (!dataTable) return;\n",
              "\n",
              "        const docLinkHtml = 'Like what you see? Visit the ' +\n",
              "          '<a target=\"_blank\" href=https://colab.research.google.com/notebooks/data_table.ipynb>data table notebook</a>'\n",
              "          + ' to learn more about interactive tables.';\n",
              "        element.innerHTML = '';\n",
              "        dataTable['output_type'] = 'display_data';\n",
              "        await google.colab.output.renderOutput(dataTable, element);\n",
              "        const docLink = document.createElement('div');\n",
              "        docLink.innerHTML = docLinkHtml;\n",
              "        element.appendChild(docLink);\n",
              "      }\n",
              "    </script>\n",
              "  </div>\n",
              "\n",
              "\n",
              "<div id=\"df-ddefd8a3-33de-40c1-a2e7-69ed24e6e43b\">\n",
              "  <button class=\"colab-df-quickchart\" onclick=\"quickchart('df-ddefd8a3-33de-40c1-a2e7-69ed24e6e43b')\"\n",
              "            title=\"Suggest charts\"\n",
              "            style=\"display:none;\">\n",
              "\n",
              "<svg xmlns=\"http://www.w3.org/2000/svg\" height=\"24px\"viewBox=\"0 0 24 24\"\n",
              "     width=\"24px\">\n",
              "    <g>\n",
              "        <path d=\"M19 3H5c-1.1 0-2 .9-2 2v14c0 1.1.9 2 2 2h14c1.1 0 2-.9 2-2V5c0-1.1-.9-2-2-2zM9 17H7v-7h2v7zm4 0h-2V7h2v10zm4 0h-2v-4h2v4z\"/>\n",
              "    </g>\n",
              "</svg>\n",
              "  </button>\n",
              "\n",
              "<style>\n",
              "  .colab-df-quickchart {\n",
              "      --bg-color: #E8F0FE;\n",
              "      --fill-color: #1967D2;\n",
              "      --hover-bg-color: #E2EBFA;\n",
              "      --hover-fill-color: #174EA6;\n",
              "      --disabled-fill-color: #AAA;\n",
              "      --disabled-bg-color: #DDD;\n",
              "  }\n",
              "\n",
              "  [theme=dark] .colab-df-quickchart {\n",
              "      --bg-color: #3B4455;\n",
              "      --fill-color: #D2E3FC;\n",
              "      --hover-bg-color: #434B5C;\n",
              "      --hover-fill-color: #FFFFFF;\n",
              "      --disabled-bg-color: #3B4455;\n",
              "      --disabled-fill-color: #666;\n",
              "  }\n",
              "\n",
              "  .colab-df-quickchart {\n",
              "    background-color: var(--bg-color);\n",
              "    border: none;\n",
              "    border-radius: 50%;\n",
              "    cursor: pointer;\n",
              "    display: none;\n",
              "    fill: var(--fill-color);\n",
              "    height: 32px;\n",
              "    padding: 0;\n",
              "    width: 32px;\n",
              "  }\n",
              "\n",
              "  .colab-df-quickchart:hover {\n",
              "    background-color: var(--hover-bg-color);\n",
              "    box-shadow: 0 1px 2px rgba(60, 64, 67, 0.3), 0 1px 3px 1px rgba(60, 64, 67, 0.15);\n",
              "    fill: var(--button-hover-fill-color);\n",
              "  }\n",
              "\n",
              "  .colab-df-quickchart-complete:disabled,\n",
              "  .colab-df-quickchart-complete:disabled:hover {\n",
              "    background-color: var(--disabled-bg-color);\n",
              "    fill: var(--disabled-fill-color);\n",
              "    box-shadow: none;\n",
              "  }\n",
              "\n",
              "  .colab-df-spinner {\n",
              "    border: 2px solid var(--fill-color);\n",
              "    border-color: transparent;\n",
              "    border-bottom-color: var(--fill-color);\n",
              "    animation:\n",
              "      spin 1s steps(1) infinite;\n",
              "  }\n",
              "\n",
              "  @keyframes spin {\n",
              "    0% {\n",
              "      border-color: transparent;\n",
              "      border-bottom-color: var(--fill-color);\n",
              "      border-left-color: var(--fill-color);\n",
              "    }\n",
              "    20% {\n",
              "      border-color: transparent;\n",
              "      border-left-color: var(--fill-color);\n",
              "      border-top-color: var(--fill-color);\n",
              "    }\n",
              "    30% {\n",
              "      border-color: transparent;\n",
              "      border-left-color: var(--fill-color);\n",
              "      border-top-color: var(--fill-color);\n",
              "      border-right-color: var(--fill-color);\n",
              "    }\n",
              "    40% {\n",
              "      border-color: transparent;\n",
              "      border-right-color: var(--fill-color);\n",
              "      border-top-color: var(--fill-color);\n",
              "    }\n",
              "    60% {\n",
              "      border-color: transparent;\n",
              "      border-right-color: var(--fill-color);\n",
              "    }\n",
              "    80% {\n",
              "      border-color: transparent;\n",
              "      border-right-color: var(--fill-color);\n",
              "      border-bottom-color: var(--fill-color);\n",
              "    }\n",
              "    90% {\n",
              "      border-color: transparent;\n",
              "      border-bottom-color: var(--fill-color);\n",
              "    }\n",
              "  }\n",
              "</style>\n",
              "\n",
              "  <script>\n",
              "    async function quickchart(key) {\n",
              "      const quickchartButtonEl =\n",
              "        document.querySelector('#' + key + ' button');\n",
              "      quickchartButtonEl.disabled = true;  // To prevent multiple clicks.\n",
              "      quickchartButtonEl.classList.add('colab-df-spinner');\n",
              "      try {\n",
              "        const charts = await google.colab.kernel.invokeFunction(\n",
              "            'suggestCharts', [key], {});\n",
              "      } catch (error) {\n",
              "        console.error('Error during call to suggestCharts:', error);\n",
              "      }\n",
              "      quickchartButtonEl.classList.remove('colab-df-spinner');\n",
              "      quickchartButtonEl.classList.add('colab-df-quickchart-complete');\n",
              "    }\n",
              "    (() => {\n",
              "      let quickchartButtonEl =\n",
              "        document.querySelector('#df-ddefd8a3-33de-40c1-a2e7-69ed24e6e43b button');\n",
              "      quickchartButtonEl.style.display =\n",
              "        google.colab.kernel.accessAllowed ? 'block' : 'none';\n",
              "    })();\n",
              "  </script>\n",
              "</div>\n",
              "\n",
              "    </div>\n",
              "  </div>\n"
            ],
            "application/vnd.google.colaboratory.intrinsic+json": {
              "type": "dataframe",
              "variable_name": "iris_df",
              "summary": "{\n  \"name\": \"iris_df\",\n  \"rows\": 150,\n  \"fields\": [\n    {\n      \"column\": \"sepal length (cm)\",\n      \"properties\": {\n        \"dtype\": \"number\",\n        \"std\": 0.8280661279778629,\n        \"min\": 4.3,\n        \"max\": 7.9,\n        \"num_unique_values\": 35,\n        \"samples\": [\n          6.2,\n          4.5,\n          5.6\n        ],\n        \"semantic_type\": \"\",\n        \"description\": \"\"\n      }\n    },\n    {\n      \"column\": \"sepal width (cm)\",\n      \"properties\": {\n        \"dtype\": \"number\",\n        \"std\": 0.4335943113621737,\n        \"min\": 2.0,\n        \"max\": 4.4,\n        \"num_unique_values\": 23,\n        \"samples\": [\n          2.3,\n          4.0,\n          3.5\n        ],\n        \"semantic_type\": \"\",\n        \"description\": \"\"\n      }\n    },\n    {\n      \"column\": \"petal length (cm)\",\n      \"properties\": {\n        \"dtype\": \"number\",\n        \"std\": 1.7644204199522617,\n        \"min\": 1.0,\n        \"max\": 6.9,\n        \"num_unique_values\": 43,\n        \"samples\": [\n          6.7,\n          3.8,\n          3.7\n        ],\n        \"semantic_type\": \"\",\n        \"description\": \"\"\n      }\n    },\n    {\n      \"column\": \"petal width (cm)\",\n      \"properties\": {\n        \"dtype\": \"number\",\n        \"std\": 0.7631607417008414,\n        \"min\": 0.1,\n        \"max\": 2.5,\n        \"num_unique_values\": 22,\n        \"samples\": [\n          0.2,\n          1.2,\n          1.3\n        ],\n        \"semantic_type\": \"\",\n        \"description\": \"\"\n      }\n    },\n    {\n      \"column\": \"species\",\n      \"properties\": {\n        \"dtype\": \"category\",\n        \"num_unique_values\": 3,\n        \"samples\": [\n          \"setosa\",\n          \"versicolor\",\n          \"virginica\"\n        ],\n        \"semantic_type\": \"\",\n        \"description\": \"\"\n      }\n    }\n  ]\n}"
            }
          },
          "metadata": {},
          "execution_count": 23
        }
      ]
    },
    {
      "cell_type": "code",
      "execution_count": 24,
      "metadata": {
        "colab": {
          "base_uri": "https://localhost:8080/"
        },
        "id": "lFXL37nKstdQ",
        "outputId": "ba777ba9-fa2a-4108-d84d-52fb902bc0dc"
      },
      "outputs": [
        {
          "output_type": "stream",
          "name": "stdout",
          "text": [
            "Number of species: 3\n"
          ]
        }
      ],
      "source": [
        "num_species = iris_df['species'].nunique()\n",
        "print(\"Number of species:\", num_species)"
      ]
    },
    {
      "cell_type": "markdown",
      "metadata": {
        "id": "DffBQm6gstdQ"
      },
      "source": [
        "What are their names?"
      ]
    },
    {
      "cell_type": "code",
      "execution_count": 25,
      "metadata": {
        "colab": {
          "base_uri": "https://localhost:8080/"
        },
        "id": "9ccIm9uCstdQ",
        "outputId": "6b370d73-7515-43b6-b9c2-2cd52a5ced50"
      },
      "outputs": [
        {
          "output_type": "stream",
          "name": "stdout",
          "text": [
            "Species names: ['setosa' 'versicolor' 'virginica']\n"
          ]
        }
      ],
      "source": [
        "species_names = iris_df['species'].unique()\n",
        "print(\"Species names:\", species_names)"
      ]
    },
    {
      "cell_type": "markdown",
      "metadata": {
        "id": "Z5sN0NEastdQ"
      },
      "source": [
        "How many samples are there per species?\n",
        "\n",
        "<details><summary>Hint</summary>Use the <a href=\"http://pandas.pydata.org/pandas-docs/stable/generated/pandas.Series.value_counts.html\"><code>.value_counts()</code></a> method</details>"
      ]
    },
    {
      "cell_type": "code",
      "execution_count": 26,
      "metadata": {
        "colab": {
          "base_uri": "https://localhost:8080/"
        },
        "id": "qjQ7VloNstdR",
        "outputId": "ad3fd2da-da4c-4361-da41-e65d7bc00f68"
      },
      "outputs": [
        {
          "output_type": "stream",
          "name": "stdout",
          "text": [
            "Samples per species:\n",
            "species\n",
            "setosa        50\n",
            "versicolor    50\n",
            "virginica     50\n",
            "Name: count, dtype: int64\n"
          ]
        }
      ],
      "source": [
        "samples_per_species = iris_df['species'].value_counts()\n",
        "print(\"Samples per species:\")\n",
        "print(samples_per_species)"
      ]
    },
    {
      "cell_type": "markdown",
      "metadata": {
        "id": "QHwQb16XstdR"
      },
      "source": [
        "## Feature Engineering\n",
        "\n",
        "Create a new column called `'sepal_ratio'` which is equal to sepal width / sepal length"
      ]
    },
    {
      "cell_type": "code",
      "execution_count": 27,
      "metadata": {
        "id": "I370SGt9stdR"
      },
      "outputs": [],
      "source": [
        "iris_df['sepal_ratio'] = iris_df['sepal width (cm)'] / iris_df['sepal length (cm)']"
      ]
    },
    {
      "cell_type": "markdown",
      "metadata": {
        "id": "rNCSxkaestdS"
      },
      "source": [
        "Create a similar column called `'petal_ratio'`: petal width / petal length"
      ]
    },
    {
      "cell_type": "code",
      "execution_count": 28,
      "metadata": {
        "id": "5B1J2Q0LstdS"
      },
      "outputs": [],
      "source": [
        "iris_df['petal_ratio'] = iris_df['petal width (cm)'] / iris_df['petal length (cm)']"
      ]
    },
    {
      "cell_type": "markdown",
      "metadata": {
        "id": "yXdzrnZLstdS"
      },
      "source": [
        "Create 4 columns that correspond to `sepal length (cm)`, `sepal width (cm)`, `petal length (cm)`, and `petal width (cm)`, only in inches."
      ]
    },
    {
      "cell_type": "code",
      "execution_count": 29,
      "metadata": {
        "id": "fGryHkGostdS"
      },
      "outputs": [],
      "source": [
        "iris_df['sepal length (in)'] = iris_df['sepal length (cm)'] * 0.393701\n",
        "iris_df['sepal width (in)'] = iris_df['sepal width (cm)'] * 0.393701\n",
        "iris_df['petal length (in)'] = iris_df['petal length (cm)'] * 0.393701\n",
        "iris_df['petal width (in)'] = iris_df['petal width (cm)'] * 0.393701\n"
      ]
    },
    {
      "cell_type": "markdown",
      "metadata": {
        "id": "keNXp0rTstdS"
      },
      "source": [
        "## Apply\n",
        "\n",
        "Create a column called `'encoded_species'`:\n",
        "- 0 for setosa\n",
        "- 1 for versicolor\n",
        "- 2 for virginica\n",
        "\n",
        "\n",
        "Hint 1\n",
        "Create a dictionary using the species as keys and the numbers 0-2 for values\n",
        "\n",
        "\n",
        "Hint 2\n",
        "    Use the dictionary in hint 1 with the <code>.apply()</code> method to create the new column\n"
      ]
    },
    {
      "cell_type": "code",
      "execution_count": 30,
      "metadata": {
        "colab": {
          "base_uri": "https://localhost:8080/"
        },
        "id": "ha2cG-JlstdT",
        "outputId": "87cf5b8f-76b7-452e-8143-da14c4af3a9b"
      },
      "outputs": [
        {
          "output_type": "stream",
          "name": "stdout",
          "text": [
            "  species  encoded_species\n",
            "0  setosa                0\n",
            "1  setosa                0\n",
            "2  setosa                0\n",
            "3  setosa                0\n",
            "4  setosa                0\n"
          ]
        }
      ],
      "source": [
        "species_mapping = {'setosa': 0, 'versicolor': 1, 'virginica': 2}\n",
        "iris_df['encoded_species'] = iris_df['species'].map(species_mapping)\n",
        "print(iris_df[['species', 'encoded_species']].head())"
      ]
    },
    {
      "cell_type": "markdown",
      "metadata": {
        "id": "ZWpaeRvustdT"
      },
      "source": [
        "## March Madness\n",
        "\n",
        "Let's change up the dataset to something different than flowers: March Madness!\n",
        "\n",
        "Read in the dataset `ncaa-seeds.csv` to an object named `seeds`.\n",
        "\n",
        "This dataframe simulates the games that will occur in the first round of the [NCAA basketball tournament](http://www.sportingnews.com/au/ncaa-basketball/news/ncaa-tournament-2017-march-madness-bracket-schedule-matchups-print-a-bracket/1r6cau9sb1xj4131zzhay2dj5g). In the first row, you should see the following:\n",
        "\n",
        "| team_seed | opponent_seed |\n",
        "|-----------|---------------|\n",
        "| 01N       | 16N           |"
      ]
    },
    {
      "cell_type": "code",
      "execution_count": 31,
      "metadata": {
        "colab": {
          "base_uri": "https://localhost:8080/"
        },
        "id": "OwTNik83stdT",
        "outputId": "a3bf5f74-8514-47f8-d4ff-a5f9cc77bd6b"
      },
      "outputs": [
        {
          "output_type": "stream",
          "name": "stdout",
          "text": [
            "  team_seed opponent_seed\n",
            "0       01N           16N\n",
            "1       02N           15N\n",
            "2       03N           14N\n",
            "3       04N           13N\n",
            "4       05N           12N\n"
          ]
        }
      ],
      "source": [
        "seeds = pd.read_csv(\"/content/ncaa-seeds 1.csv\")\n",
        "print(seeds.head())"
      ]
    },
    {
      "cell_type": "markdown",
      "metadata": {
        "id": "clBRN6nestdT"
      },
      "source": [
        "For team_seed, the 01 is their seed, and N is their division (North). This row is saying the 1st seed in the north division will play the 16th seed (same division).\n",
        "\n",
        "Using the `.apply()` method, create the following new columns:\n",
        "- `team_division`\n",
        "- `opponent_division`\n",
        "\n",
        "The first row of your result should look as follows:\n",
        "\n",
        "| team_seed | opponent_seed | team_division | opponent_division |\n",
        "|-----------|---------------|---------------|-------------------|\n",
        "| 01N       | 16N           | N             | N                 |\n"
      ]
    },
    {
      "cell_type": "code",
      "execution_count": 32,
      "metadata": {
        "colab": {
          "base_uri": "https://localhost:8080/"
        },
        "id": "UWui_CP9stdU",
        "outputId": "ad6a1f30-6855-4f06-a70f-61933966c3f4"
      },
      "outputs": [
        {
          "output_type": "stream",
          "name": "stdout",
          "text": [
            "  team_seed opponent_seed team_division opponent_division\n",
            "0       01N           16N             N                 N\n",
            "1       02N           15N             N                 N\n",
            "2       03N           14N             N                 N\n",
            "3       04N           13N             N                 N\n",
            "4       05N           12N             N                 N\n"
          ]
        }
      ],
      "source": [
        "seeds['team_division'] = seeds['team_seed'].apply(lambda x: x[-1])\n",
        "seeds['opponent_division'] = seeds['opponent_seed'].apply(lambda x: x[-1])\n",
        "\n",
        "print(seeds.head())"
      ]
    },
    {
      "cell_type": "markdown",
      "metadata": {
        "id": "lWZ4VwE0stdU"
      },
      "source": [
        "Now that you have the divisions, change the `team_seed` and `opponent_seed` columns to just be the numbers.\n",
        "\n",
        "The first row of your result should look as follows:\n",
        "\n",
        "| team_seed | opponent_seed | team_division | opponent_division |\n",
        "|-----------|---------------|---------------|-------------------|\n",
        "| 1         | 16            | N             | N                 |"
      ]
    },
    {
      "cell_type": "code",
      "execution_count": 33,
      "metadata": {
        "id": "xrJzhIH8stdU"
      },
      "outputs": [],
      "source": [
        "seeds['team_seed'] = seeds['team_seed'].apply(lambda x: int(x[:-1]))\n",
        "seeds['opponent_seed'] = seeds['opponent_seed'].apply(lambda x: int(x[:-1]))"
      ]
    },
    {
      "cell_type": "markdown",
      "metadata": {
        "id": "yYKUVEPMstdU"
      },
      "source": [
        "Create a new column called seed_delta, which is the difference between the team's seed and their opponent's.\n",
        "\n",
        "The first row of your result should look as follows:\n",
        "\n",
        "| team_seed | opponent_seed | team_division | opponent_division | seed_delta |\n",
        "|-----------|---------------|---------------|-------------------|------------|\n",
        "| 1         | 16            | N             | N                 | -15        |\n",
        "\n",
        "<br>\n",
        "<details><summary>Did you get an error?</summary>\n",
        "team_seed and opponent_seed need to be numerical columns in order for you to perform mathematical operations on them.\n",
        "</details>"
      ]
    },
    {
      "cell_type": "code",
      "execution_count": 34,
      "metadata": {
        "colab": {
          "base_uri": "https://localhost:8080/"
        },
        "id": "LStVKdYustdU",
        "outputId": "8c3f6c91-78cb-43b1-d957-9302c686fc6e"
      },
      "outputs": [
        {
          "output_type": "stream",
          "name": "stdout",
          "text": [
            "   team_seed  opponent_seed team_division opponent_division  seed_delta\n",
            "0          1             16             N                 N         -15\n",
            "1          2             15             N                 N         -13\n",
            "2          3             14             N                 N         -11\n",
            "3          4             13             N                 N          -9\n",
            "4          5             12             N                 N          -7\n"
          ]
        }
      ],
      "source": [
        "seeds['seed_delta'] = seeds['team_seed'] - seeds['opponent_seed']\n",
        "\n",
        "print(seeds.head())"
      ]
    }
  ],
  "metadata": {
    "anaconda-cloud": {},
    "kernelspec": {
      "display_name": "Python 3 (ipykernel)",
      "language": "python",
      "name": "python3"
    },
    "language_info": {
      "codemirror_mode": {
        "name": "ipython",
        "version": 3
      },
      "file_extension": ".py",
      "mimetype": "text/x-python",
      "name": "python",
      "nbconvert_exporter": "python",
      "pygments_lexer": "ipython3",
      "version": "3.12.7"
    },
    "colab": {
      "provenance": [],
      "include_colab_link": true
    }
  },
  "nbformat": 4,
  "nbformat_minor": 0
}