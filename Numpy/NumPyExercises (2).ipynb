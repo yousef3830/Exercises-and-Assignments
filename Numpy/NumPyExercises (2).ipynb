{
  "cells": [
    {
      "cell_type": "markdown",
      "id": "f22321c4-05e7-4bdd-a258-1bb20b89b9f2",
      "metadata": {
        "id": "f22321c4-05e7-4bdd-a258-1bb20b89b9f2"
      },
      "source": [
        "# NumPy Exercises Solutions\n",
        "\n",
        "These are my solutions that I wrote while working on the article [NumPy Examples: Forty-Five Practice Questions To Make You an Expert](https://codesolid.com/numpy-practice-questions-to-make-you-an-expert/).  I've tried to list the original questions in the comments."
      ]
    },
    {
      "cell_type": "code",
      "execution_count": 1,
      "id": "5f072d39-1dd8-412d-8e99-ee3209251b93",
      "metadata": {
        "id": "5f072d39-1dd8-412d-8e99-ee3209251b93"
      },
      "outputs": [],
      "source": [
        "import numpy as np"
      ]
    },
    {
      "cell_type": "markdown",
      "id": "fc249983-6007-4c27-9287-712075a77864",
      "metadata": {
        "id": "fc249983-6007-4c27-9287-712075a77864"
      },
      "source": [
        "## Array Creation\n",
        "\n",
        "NumPy supports a variety of methods for array creation."
      ]
    },
    {
      "cell_type": "code",
      "execution_count": 2,
      "id": "f426501a-74cf-4af1-bc18-034534b3c024",
      "metadata": {
        "colab": {
          "base_uri": "https://localhost:8080/"
        },
        "id": "f426501a-74cf-4af1-bc18-034534b3c024",
        "outputId": "3ed39619-88f4-46fc-f7c3-84b7d43e30c3"
      },
      "outputs": [
        {
          "output_type": "execute_result",
          "data": {
            "text/plain": [
              "array([ 10,  20,  30,  40,  50,  60,  70,  80,  90, 100])"
            ]
          },
          "metadata": {},
          "execution_count": 2
        }
      ],
      "source": [
        "# How would you create a one dimensional NumPy array of the numbers from 10 to 100, counting by 10?\n",
        "np.arange(10, 101, 10)"
      ]
    },
    {
      "cell_type": "code",
      "execution_count": 3,
      "id": "80352bc0-bb0a-49ea-97fb-dd396bdd08ab",
      "metadata": {
        "colab": {
          "base_uri": "https://localhost:8080/"
        },
        "id": "80352bc0-bb0a-49ea-97fb-dd396bdd08ab",
        "outputId": "ce7e1174-6d04-48cd-b9d8-4ed10276d0d2"
      },
      "outputs": [
        {
          "output_type": "execute_result",
          "data": {
            "text/plain": [
              "[10, 20, 30, 40, 50, 60, 70, 80, 90, 100]"
            ]
          },
          "metadata": {},
          "execution_count": 3
        }
      ],
      "source": [
        "# How could you do the same thing with a standard Python range and a list?\n",
        "list(range(10, 101, 10))"
      ]
    },
    {
      "cell_type": "code",
      "execution_count": 4,
      "id": "6e81bf28-4463-485c-a47f-155fb068674f",
      "metadata": {
        "colab": {
          "base_uri": "https://localhost:8080/",
          "height": 176
        },
        "id": "6e81bf28-4463-485c-a47f-155fb068674f",
        "outputId": "f02a5e84-0e5e-4e0b-a3b3-3b7273d869a4"
      },
      "outputs": [
        {
          "output_type": "error",
          "ename": "TypeError",
          "evalue": "array() missing required argument 'object' (pos 0)",
          "traceback": [
            "\u001b[0;31m---------------------------------------------------------------------------\u001b[0m",
            "\u001b[0;31mTypeError\u001b[0m                                 Traceback (most recent call last)",
            "\u001b[0;32m<ipython-input-4-911b27103aaa>\u001b[0m in \u001b[0;36m<cell line: 2>\u001b[0;34m()\u001b[0m\n\u001b[1;32m      1\u001b[0m \u001b[0;31m# What does np.array() do (no arguments passed to constructor).  Guess:  exception?\u001b[0m\u001b[0;34m\u001b[0m\u001b[0;34m\u001b[0m\u001b[0m\n\u001b[0;32m----> 2\u001b[0;31m \u001b[0mnp\u001b[0m\u001b[0;34m.\u001b[0m\u001b[0marray\u001b[0m\u001b[0;34m(\u001b[0m\u001b[0;34m)\u001b[0m\u001b[0;34m\u001b[0m\u001b[0;34m\u001b[0m\u001b[0m\n\u001b[0m\u001b[1;32m      3\u001b[0m \u001b[0;31m# np.array()\u001b[0m\u001b[0;34m\u001b[0m\u001b[0;34m\u001b[0m\u001b[0m\n",
            "\u001b[0;31mTypeError\u001b[0m: array() missing required argument 'object' (pos 0)"
          ]
        }
      ],
      "source": [
        "# What does np.array() do (no arguments passed to constructor).  Guess:  exception?\n",
        "# error raise\n",
        "# np.array()"
      ]
    },
    {
      "cell_type": "code",
      "execution_count": 5,
      "id": "16405be3-a548-44a7-859b-37413301444c",
      "metadata": {
        "colab": {
          "base_uri": "https://localhost:8080/"
        },
        "id": "16405be3-a548-44a7-859b-37413301444c",
        "outputId": "1970d460-922d-44ca-f560-da926ad7a659"
      },
      "outputs": [
        {
          "output_type": "execute_result",
          "data": {
            "text/plain": [
              "array(['A', 'B', 'C', 'D', 'E', 'F', 'G', 'H', 'I', 'J', 'K', 'L', 'M',\n",
              "       'N', 'O', 'P', 'Q', 'R', 'S', 'T', 'U', 'V', 'W', 'X', 'Y', 'Z'],\n",
              "      dtype='<U1')"
            ]
          },
          "metadata": {},
          "execution_count": 5
        }
      ],
      "source": [
        "# How might you construct a NumPy array of capital letters (A-Z)\n",
        "np.array([chr(i) for i in range(ord('A'), ord('Z') + 1)])"
      ]
    },
    {
      "cell_type": "code",
      "execution_count": 6,
      "id": "d694e846-760c-4664-b9c7-a92cfdbe8d14",
      "metadata": {
        "colab": {
          "base_uri": "https://localhost:8080/"
        },
        "id": "d694e846-760c-4664-b9c7-a92cfdbe8d14",
        "outputId": "5766db3a-8410-4784-985d-43a47b41fe04"
      },
      "outputs": [
        {
          "output_type": "execute_result",
          "data": {
            "text/plain": [
              "dtype('<U14')"
            ]
          },
          "metadata": {},
          "execution_count": 6
        }
      ],
      "source": [
        "arr = np.array(['fee', 'fi', 'fo', 'fumble-dee-dum'])\n",
        "arr.dtype"
      ]
    },
    {
      "cell_type": "code",
      "execution_count": 7,
      "id": "b52a1cb8-80af-457e-afd2-04e1490560bb",
      "metadata": {
        "colab": {
          "base_uri": "https://localhost:8080/"
        },
        "id": "b52a1cb8-80af-457e-afd2-04e1490560bb",
        "outputId": "2aebf4e9-03bc-4e72-d68c-72dfa5e657e6"
      },
      "outputs": [
        {
          "output_type": "execute_result",
          "data": {
            "text/plain": [
              "dtype('<U1')"
            ]
          },
          "metadata": {},
          "execution_count": 7
        }
      ],
      "source": [
        "arr = np.array([chr(i) for i in range(ord('A'), ord('Z') + 1)])\n",
        "arr.dtype\n",
        "arr[0].dtype"
      ]
    },
    {
      "cell_type": "code",
      "execution_count": 8,
      "id": "72382829-d390-49b2-9ff2-5ef95a2680aa",
      "metadata": {
        "colab": {
          "base_uri": "https://localhost:8080/"
        },
        "id": "72382829-d390-49b2-9ff2-5ef95a2680aa",
        "outputId": "77c1e057-dd0e-4f49-dfc3-79afe178a7b8"
      },
      "outputs": [
        {
          "output_type": "execute_result",
          "data": {
            "text/plain": [
              "array([1., 1., 1., 1., 1., 1., 1., 1., 1., 1.])"
            ]
          },
          "metadata": {},
          "execution_count": 8
        }
      ],
      "source": [
        "# How would you create a ten-element array of all zeros?\n",
        "np.zeros(10)\n",
        "# Of all ones?\n",
        "np.ones(10)"
      ]
    },
    {
      "cell_type": "code",
      "execution_count": 9,
      "id": "2f7cb258-330a-40a5-8834-21cbe7698e04",
      "metadata": {
        "colab": {
          "base_uri": "https://localhost:8080/"
        },
        "id": "2f7cb258-330a-40a5-8834-21cbe7698e04",
        "outputId": "ff5f5baa-0aa7-4a37-d34d-96f249d46b1e"
      },
      "outputs": [
        {
          "output_type": "execute_result",
          "data": {
            "text/plain": [
              "dtype('float64')"
            ]
          },
          "metadata": {},
          "execution_count": 9
        }
      ],
      "source": [
        "# What is the default data dype for the np.zeros function?\n",
        "# whta is the data type\n",
        "np.zeros(10).dtype"
      ]
    },
    {
      "cell_type": "code",
      "execution_count": 10,
      "id": "4c75caaf-e958-4e36-8de5-d961d4486b3f",
      "metadata": {
        "colab": {
          "base_uri": "https://localhost:8080/"
        },
        "id": "4c75caaf-e958-4e36-8de5-d961d4486b3f",
        "outputId": "5c4a2f4c-a01e-4234-86d4-eced81cf31c1"
      },
      "outputs": [
        {
          "output_type": "execute_result",
          "data": {
            "text/plain": [
              "array([8, 3, 1, 4, 3, 6, 6, 8, 4, 0])"
            ]
          },
          "metadata": {},
          "execution_count": 10
        }
      ],
      "source": [
        "# How can you create an array of 10 random integers?\n",
        "np.random.randint(0, 10, 10)"
      ]
    },
    {
      "cell_type": "code",
      "execution_count": 11,
      "id": "f7158956-24a4-43ff-a010-bd402fae8035",
      "metadata": {
        "colab": {
          "base_uri": "https://localhost:8080/"
        },
        "id": "f7158956-24a4-43ff-a010-bd402fae8035",
        "outputId": "7ec52d12-7e04-4650-e3b8-44db84953cff"
      },
      "outputs": [
        {
          "output_type": "execute_result",
          "data": {
            "text/plain": [
              "array([5.48448481, 4.52865175, 6.65701562, 5.53784637, 6.06819916,\n",
              "       4.20104065, 4.97859774, 5.23413555, 4.4546174 , 4.72112275])"
            ]
          },
          "metadata": {},
          "execution_count": 11
        }
      ],
      "source": [
        "# How can you create a normal distribution of 10 numbers, centered on 5?\n",
        "# Note, the 1 in center represents mu, size of STD DEV, and is arbitrary.\n",
        "np.random.normal(5, 1, 10)"
      ]
    },
    {
      "cell_type": "code",
      "execution_count": 12,
      "id": "dc5e8220-3fa2-4851-b45c-58cca3a0f981",
      "metadata": {
        "colab": {
          "base_uri": "https://localhost:8080/"
        },
        "id": "dc5e8220-3fa2-4851-b45c-58cca3a0f981",
        "outputId": "73e48ec4-5357-4c9f-b153-1ce4a216a3bd"
      },
      "outputs": [
        {
          "output_type": "execute_result",
          "data": {
            "text/plain": [
              "array([0.24179002, 0.11099075, 0.08662794, 0.09001346, 0.48786422,\n",
              "       0.71473977, 0.35835159, 0.38086154, 0.21618255, 0.36365684])"
            ]
          },
          "metadata": {},
          "execution_count": 12
        }
      ],
      "source": [
        "# How can you create an array of 10 random numbers in the range 0 - 1?\n",
        "np.random.random(10)"
      ]
    },
    {
      "cell_type": "markdown",
      "id": "84dddbf7-fb7f-420d-bc1f-91c3154972d6",
      "metadata": {
        "id": "84dddbf7-fb7f-420d-bc1f-91c3154972d6"
      },
      "source": [
        "# Multidimensional arrays\n"
      ]
    },
    {
      "cell_type": "code",
      "execution_count": null,
      "id": "9b570674-e7e0-4faa-a902-320051aff59f",
      "metadata": {
        "id": "9b570674-e7e0-4faa-a902-320051aff59f"
      },
      "outputs": [],
      "source": [
        "np.zeros((3, 5))"
      ]
    },
    {
      "cell_type": "code",
      "execution_count": null,
      "id": "582200e8-e936-40ce-9adc-d639c96c2680",
      "metadata": {
        "id": "582200e8-e936-40ce-9adc-d639c96c2680"
      },
      "outputs": [],
      "source": [
        "myarray = np.arange(1, 13).reshape(3, 4)\n",
        "myarray"
      ]
    },
    {
      "cell_type": "code",
      "execution_count": null,
      "id": "9ad5156c-2d5f-40d3-a19b-9170b40c2089",
      "metadata": {
        "id": "9ad5156c-2d5f-40d3-a19b-9170b40c2089"
      },
      "outputs": [],
      "source": [
        "myarray[1,2]"
      ]
    },
    {
      "cell_type": "code",
      "execution_count": null,
      "id": "42fb03ca-033a-475b-82a1-f5e0399a4cc6",
      "metadata": {
        "id": "42fb03ca-033a-475b-82a1-f5e0399a4cc6"
      },
      "outputs": [],
      "source": [
        "myarray.ndim"
      ]
    },
    {
      "cell_type": "code",
      "execution_count": null,
      "id": "8daa3694-3c11-4301-ba18-46e4be1f7e01",
      "metadata": {
        "id": "8daa3694-3c11-4301-ba18-46e4be1f7e01"
      },
      "outputs": [],
      "source": [
        "myarray.reshape(2,6)"
      ]
    },
    {
      "cell_type": "code",
      "execution_count": null,
      "id": "c5928434-6ed0-4b3c-823f-70648b484115",
      "metadata": {
        "id": "c5928434-6ed0-4b3c-823f-70648b484115"
      },
      "outputs": [],
      "source": [
        "arr"
      ]
    },
    {
      "cell_type": "code",
      "execution_count": null,
      "id": "4d648629-a4d3-4a15-8c39-5352e41ec9c2",
      "metadata": {
        "id": "4d648629-a4d3-4a15-8c39-5352e41ec9c2"
      },
      "outputs": [],
      "source": [
        "myarray.shape"
      ]
    },
    {
      "cell_type": "code",
      "execution_count": null,
      "id": "72f66823-409b-4fb3-8ad5-5ba51119fcdd",
      "metadata": {
        "id": "72f66823-409b-4fb3-8ad5-5ba51119fcdd"
      },
      "outputs": [],
      "source": [
        "myarray.reshape(2,6)"
      ]
    },
    {
      "cell_type": "code",
      "execution_count": null,
      "id": "797c9764-6f92-4112-bf31-7545db1501b2",
      "metadata": {
        "id": "797c9764-6f92-4112-bf31-7545db1501b2"
      },
      "outputs": [],
      "source": [
        "myarray"
      ]
    },
    {
      "cell_type": "code",
      "execution_count": null,
      "id": "e5ca08be-78d2-4f1f-9031-fc6c98d75622",
      "metadata": {
        "id": "e5ca08be-78d2-4f1f-9031-fc6c98d75622"
      },
      "outputs": [],
      "source": [
        "x = myarray\n",
        "x"
      ]
    },
    {
      "cell_type": "code",
      "execution_count": null,
      "id": "f077a492-d21b-41e6-9c90-f5138375755f",
      "metadata": {
        "id": "f077a492-d21b-41e6-9c90-f5138375755f"
      },
      "outputs": [],
      "source": [
        "x[0,0] = 42\n",
        "myarray"
      ]
    },
    {
      "cell_type": "code",
      "execution_count": null,
      "id": "6bb52949-e8bd-470b-97c5-db21a4506fb5",
      "metadata": {
        "id": "6bb52949-e8bd-470b-97c5-db21a4506fb5"
      },
      "outputs": [],
      "source": [
        "# Create a 3x4 array of random integers between 1 and 10\n",
        "\n"
      ]
    },
    {
      "cell_type": "code",
      "execution_count": null,
      "id": "477de4fd-de29-4673-90f9-0f02eafd62b8",
      "metadata": {
        "id": "477de4fd-de29-4673-90f9-0f02eafd62b8"
      },
      "outputs": [],
      "source": [
        "# ... or:\n",
        "\n",
        "arr = np.random.randint(1,11,12).reshape(3,4)\n",
        "arr"
      ]
    },
    {
      "cell_type": "code",
      "execution_count": null,
      "id": "50c4ec18-19f7-4388-b77b-9cbecbf843f6",
      "metadata": {
        "id": "50c4ec18-19f7-4388-b77b-9cbecbf843f6"
      },
      "outputs": [],
      "source": [
        "arr - arr"
      ]
    },
    {
      "cell_type": "code",
      "execution_count": null,
      "id": "981ea130-d8ea-4130-9338-225223593a5a",
      "metadata": {
        "id": "981ea130-d8ea-4130-9338-225223593a5a"
      },
      "outputs": [],
      "source": [
        "\n",
        "z_list = [z for z in range(0,5)]\n",
        "y_list = [z_list for y in range(0,4)]\n",
        "x_list = [y_list for x in range(0,3)]\n",
        "\n",
        "x_array = np.array(x_list)\n",
        "\n",
        "\n",
        ""
      ]
    },
    {
      "cell_type": "code",
      "execution_count": null,
      "id": "c347cf60-68ee-4176-bc5d-932af651559e",
      "metadata": {
        "id": "c347cf60-68ee-4176-bc5d-932af651559e"
      },
      "outputs": [],
      "source": [
        "# My guess is x_array.shape == 3,4,5.  Correct but show tuple brackets would be better\n",
        "x_array.shape"
      ]
    },
    {
      "cell_type": "code",
      "execution_count": null,
      "id": "fc78bfe7-cf2e-4a2c-8035-6cf70e2c3876",
      "metadata": {
        "id": "fc78bfe7-cf2e-4a2c-8035-6cf70e2c3876"
      },
      "outputs": [],
      "source": [
        "# What is the value of x_array.ndim?\n",
        "x_array.ndim"
      ]
    },
    {
      "cell_type": "code",
      "execution_count": null,
      "id": "3295de06-6160-419c-a73a-b11df5fcf910",
      "metadata": {
        "id": "3295de06-6160-419c-a73a-b11df5fcf910"
      },
      "outputs": [],
      "source": [
        "# Given the following:\n",
        "arr = np.arange(0,6).reshape(2,3)\n",
        "arr\n",
        "# How could you convert it to an array that looks like\n",
        "# array([[0,3], [1,4], [2,5]))\n",
        "# My answer either arr.transpose() or arr.T\n",
        "# (arr.transpose() == arr.T).all()\n",
        "# Note difference is mutablity?  NO!  Both return a view.  Need to copy.\n",
        "arr.transpose()\n"
      ]
    },
    {
      "cell_type": "code",
      "execution_count": null,
      "id": "35d03861-17b9-42d4-aea3-b42c5aba8652",
      "metadata": {
        "id": "35d03861-17b9-42d4-aea3-b42c5aba8652"
      },
      "outputs": [],
      "source": [
        "four_by_five = np.arange(1, 21).reshape(4,5)\n",
        "four_by_five"
      ]
    },
    {
      "cell_type": "code",
      "execution_count": null,
      "id": "d3882a92-0a58-415f-b55c-1a286288e7ce",
      "metadata": {
        "id": "d3882a92-0a58-415f-b55c-1a286288e7ce"
      },
      "outputs": [],
      "source": [
        "# Write an exoression to return the first row\n",
        "four_by_five[0]"
      ]
    },
    {
      "cell_type": "code",
      "execution_count": null,
      "id": "2b8a9a1c-045a-4c03-b8e8-897bfe253d78",
      "metadata": {
        "id": "2b8a9a1c-045a-4c03-b8e8-897bfe253d78"
      },
      "outputs": [],
      "source": [
        "# Write an exoression to return the last row\n",
        "four_by_five[-1]"
      ]
    },
    {
      "cell_type": "code",
      "execution_count": null,
      "id": "b2c4311c-51de-4f5a-801e-864b51666227",
      "metadata": {
        "id": "b2c4311c-51de-4f5a-801e-864b51666227"
      },
      "outputs": [],
      "source": [
        "# What does four_by_five[2,3] return?  My answer, 14 (scalar)\n",
        "four_by_five[2,3]"
      ]
    },
    {
      "cell_type": "code",
      "execution_count": null,
      "id": "ba187a5d-e6d4-452d-af36-951d9c0ce1ce",
      "metadata": {
        "id": "ba187a5d-e6d4-452d-af36-951d9c0ce1ce"
      },
      "outputs": [],
      "source": [
        "# What does four_by_five[3,2] return?  My answer, 18 (scalar)\n",
        "four_by_five[3,2]"
      ]
    },
    {
      "cell_type": "code",
      "execution_count": null,
      "id": "f27bbdea-44d0-40db-840c-7ed785968bcc",
      "metadata": {
        "id": "f27bbdea-44d0-40db-840c-7ed785968bcc"
      },
      "outputs": [],
      "source": [
        "# How could you return the first column?  It will be a (four-element array ending with 16.) My answer four_by_five[:,0]\n",
        "four_by_five[:,0]"
      ]
    },
    {
      "cell_type": "code",
      "execution_count": null,
      "id": "e98683e1-25d4-4bb5-a0b4-046f37b76073",
      "metadata": {
        "id": "e98683e1-25d4-4bb5-a0b4-046f37b76073"
      },
      "outputs": [],
      "source": [
        "# What does four_by_five[:, 2:4] return?\n",
        "# My answer the last two columns -- wrong, third and fourth columns\n",
        "four_by_five[:, 2:4]"
      ]
    },
    {
      "cell_type": "code",
      "execution_count": null,
      "id": "55f8a1e5-6cd0-4171-9593-2a1c3414e290",
      "metadata": {
        "id": "55f8a1e5-6cd0-4171-9593-2a1c3414e290"
      },
      "outputs": [],
      "source": [
        "# Corrected question\n",
        "# What does four_by_five[:, 3:5] return?\n",
        "four_by_five[:, 3:5]"
      ]
    },
    {
      "cell_type": "code",
      "execution_count": null,
      "id": "91aefd49-65f6-4ade-9d9e-163b7ec4bd04",
      "metadata": {
        "id": "91aefd49-65f6-4ade-9d9e-163b7ec4bd04"
      },
      "outputs": [],
      "source": [
        "# Write an expression to return the last two columns of the middle two rows.\n",
        "four_by_five[1:3, 3:]"
      ]
    },
    {
      "cell_type": "code",
      "execution_count": null,
      "id": "d8dab8a1-5d00-4c46-a838-7fbd0772876a",
      "metadata": {
        "id": "d8dab8a1-5d00-4c46-a838-7fbd0772876a"
      },
      "outputs": [],
      "source": [
        "one_dim = np.arange(1,6)\n",
        "one_dim"
      ]
    },
    {
      "cell_type": "code",
      "execution_count": null,
      "id": "59632045-f5c8-4571-90ff-c8ae172fddca",
      "metadata": {
        "id": "59632045-f5c8-4571-90ff-c8ae172fddca"
      },
      "outputs": [],
      "source": [
        "# What would be the result of one_dim * 2\n",
        "# My answer array([2, 4, 6, 8, 10])\n",
        "one_dim * 2"
      ]
    },
    {
      "cell_type": "code",
      "execution_count": null,
      "id": "1d8bac55-9919-42ca-a57b-8d96de4c055b",
      "metadata": {
        "id": "1d8bac55-9919-42ca-a57b-8d96de4c055b"
      },
      "outputs": [],
      "source": [
        "# What would be the result of one_dim + np.arange(5, 0, -1)?\n",
        "# My answer:  array([ 6,  6,  6,  6, 6])\n",
        "one_dim + np.arange(5, 0, -1)"
      ]
    },
    {
      "cell_type": "code",
      "execution_count": null,
      "id": "4930a95b-f550-4cdf-b779-e04c55b2d1d0",
      "metadata": {
        "id": "4930a95b-f550-4cdf-b779-e04c55b2d1d0"
      },
      "outputs": [],
      "source": [
        "# How many zeros are in the array returned by one_dim - one_dim ?\n",
        "# My answer: 5\n",
        "one_dim - one_dim"
      ]
    },
    {
      "cell_type": "code",
      "execution_count": null,
      "id": "08e01f28-cc36-45af-8600-781fa11c3a98",
      "metadata": {
        "id": "08e01f28-cc36-45af-8600-781fa11c3a98"
      },
      "outputs": [],
      "source": [
        "# What is the result of one_dim > 2 ?\n",
        "# My answer:  array([F, F, T, T, T])  (abbreviated)\n",
        "one_dim > 2"
      ]
    },
    {
      "cell_type": "code",
      "execution_count": null,
      "id": "da58dc9e-9d31-4422-9602-bbb7d50da8d6",
      "metadata": {
        "id": "da58dc9e-9d31-4422-9602-bbb7d50da8d6"
      },
      "outputs": [],
      "source": [
        "# For NumPy arrays, logical operations are done with the operators \"&\" and \"|\",\n",
        "# rather than the usual Python \"and\" and \"or\".  Given that, can you evaluate this expression?\n",
        "# (one_dim > 4) | (one_dim == 1)\n",
        "# My answer: array([True, False, False, False, True])\n",
        "(one_dim > 4) | (one_dim == 1)"
      ]
    },
    {
      "cell_type": "code",
      "execution_count": null,
      "id": "09b89fce-0a25-4756-aacc-353f960153ea",
      "metadata": {
        "id": "09b89fce-0a25-4756-aacc-353f960153ea"
      },
      "outputs": [],
      "source": [
        "# What is the result of -one_dim?\n",
        "# My answer array([-1, -2, -3, -4, -5])\n",
        "-one_dim"
      ]
    },
    {
      "cell_type": "code",
      "execution_count": null,
      "id": "ed5b0df9-9b73-4405-bbec-268bfaa98333",
      "metadata": {
        "id": "ed5b0df9-9b73-4405-bbec-268bfaa98333"
      },
      "outputs": [],
      "source": [
        "# np.absolute take the absolute value of each element.  Given that, what would the result be of the following expression:\n",
        "# My answer 4,5\n",
        "np.absolute(-(one_dim[3:]))"
      ]
    },
    {
      "cell_type": "code",
      "execution_count": null,
      "id": "f4612ae8-f93f-4296-8631-56d7ada74092",
      "metadata": {
        "id": "f4612ae8-f93f-4296-8631-56d7ada74092"
      },
      "outputs": [],
      "source": [
        "# What is returned by one_dim.sum()?\n",
        "# My answer: 15\n",
        "one_dim.sum()"
      ]
    },
    {
      "cell_type": "code",
      "execution_count": null,
      "id": "e97074f7-fd56-4274-99ad-7dbcaa4ecada",
      "metadata": {
        "id": "e97074f7-fd56-4274-99ad-7dbcaa4ecada"
      },
      "outputs": [],
      "source": [
        "# What is the value of one_dim.mean() ?\n",
        "\n",
        "print(one_dim)\n",
        "one_dim.mean() # The median!\n"
      ]
    },
    {
      "cell_type": "code",
      "execution_count": null,
      "id": "b4a5e90d-f681-445e-a150-b103c44e6a8b",
      "metadata": {
        "id": "b4a5e90d-f681-445e-a150-b103c44e6a8b"
      },
      "outputs": [],
      "source": [
        "# Given the following...\n",
        "\n",
        "arr = np.array([0., .5, 1.0, 1.5, 2.0]) * np.pi\n",
        "arr"
      ]
    },
    {
      "cell_type": "code",
      "execution_count": null,
      "id": "f1cfb763-4648-475a-83eb-d7472f33055c",
      "metadata": {
        "id": "f1cfb763-4648-475a-83eb-d7472f33055c"
      },
      "outputs": [],
      "source": [
        "# What are the \"approximate\" values for\n",
        "# np.around(np.sin(arr), 0)\n",
        "# My answer:  array(0, 1, 0, -1, 0)\n",
        "np.around(np.sin(arr), 0)\n"
      ]
    },
    {
      "cell_type": "code",
      "execution_count": null,
      "id": "3b9c5f32-7009-4ba2-b2dc-31ec5d0ddfbd",
      "metadata": {
        "id": "3b9c5f32-7009-4ba2-b2dc-31ec5d0ddfbd"
      },
      "outputs": [],
      "source": [
        "# What are the approximate values for\n",
        "# np.around(np.cos(arr), 0)\n",
        "# My answer:  array(1, 0, -1, 0, 1)\n",
        "np.around(np.cos(arr), 0)"
      ]
    },
    {
      "cell_type": "code",
      "execution_count": null,
      "id": "318d64da-cf28-448c-8052-a5545420ed1f",
      "metadata": {
        "id": "318d64da-cf28-448c-8052-a5545420ed1f"
      },
      "outputs": [],
      "source": [
        "# You're asked to save the following two arrays as is to a file, \"data.npz\". The arrays should be named as they are here in the file. How could you do it?\n",
        "people = np.array([\"John\", \"Jenniffer\", \"Helen\", \"Miryam\"])\n",
        "languages = np.array([2, 2, 1, 1])\n",
        "# My answer np.savez(\"data.npz\", people=people, languages=languages)\n",
        "np.savez(\"data.npz\", people=people, languages=languages)"
      ]
    },
    {
      "cell_type": "code",
      "execution_count": null,
      "id": "3e9238c9-83be-471e-b4ee-62940f941ce4",
      "metadata": {
        "id": "3e9238c9-83be-471e-b4ee-62940f941ce4"
      },
      "outputs": [],
      "source": [
        "# How could you load the files again into two new variables, people2 and languages2\n",
        "\n",
        "arrays = np.load(\"data.npz\")\n",
        "people2 = arrays[\"people\"]\n",
        "languages2 = arrays[\"languages\"]\n",
        "print(people2)\n",
        "print(languages2)"
      ]
    },
    {
      "cell_type": "code",
      "execution_count": null,
      "id": "05dbbe29-7b09-42e7-bd28-c5b999f1152a",
      "metadata": {
        "id": "05dbbe29-7b09-42e7-bd28-c5b999f1152a"
      },
      "outputs": [],
      "source": [
        "# Given\n",
        "# arr = np.arange(1,13).reshape(3,4)\n",
        "# Save it to a csv file, \"myrray.csv\".\n",
        "arr = np.arange(1,13).reshape(3,4)\n",
        "np.savetxt(\"myarray.csv\", arr, delimiter=\",\")"
      ]
    },
    {
      "cell_type": "code",
      "execution_count": null,
      "id": "4ba692a5-9de6-41c2-9ef3-2cf32f6b3935",
      "metadata": {
        "id": "4ba692a5-9de6-41c2-9ef3-2cf32f6b3935"
      },
      "outputs": [],
      "source": [
        "# How would you load it back into arr2?\n",
        "# My guess: arr2 = np.loadtxt(\"myarray.csv\", delimiter=\",\")\n",
        "arr2 = np.loadtxt(\"myarray.csv\", delimiter=\",\")\n",
        "arr2"
      ]
    },
    {
      "cell_type": "code",
      "execution_count": null,
      "id": "44a727b0-fe2d-4bd0-a9a0-1c053df15db3",
      "metadata": {
        "id": "44a727b0-fe2d-4bd0-a9a0-1c053df15db3"
      },
      "outputs": [],
      "source": [
        "# Given\n",
        "\n",
        "lumberjack = np.array(\"I'm a lumberjack and I'm OK I sleep all night and I work all day\".split(\" \"))\n",
        "lumberjack\n"
      ]
    },
    {
      "cell_type": "code",
      "execution_count": null,
      "id": "333cab80-895e-4b55-bef1-31c1905fb7e5",
      "metadata": {
        "id": "333cab80-895e-4b55-bef1-31c1905fb7e5"
      },
      "outputs": [],
      "source": [
        "# How could you capitalize the first character of each string?\n",
        "# Guessed np.capitalize(lumberjack) wrong\n",
        "np.char.capitalize(lumberjack)"
      ]
    },
    {
      "cell_type": "code",
      "execution_count": null,
      "id": "11934bc2-e138-4735-ab81-7a08cefe37a6",
      "metadata": {
        "id": "11934bc2-e138-4735-ab81-7a08cefe37a6"
      },
      "outputs": [],
      "source": [
        "# What would you expect the value of np.char.capitalize(lunberjack)[2] to be?\n",
        "# My answer \"Lumberjack\"\n",
        "np.char.capitalize(lumberjack)[2]"
      ]
    },
    {
      "cell_type": "code",
      "execution_count": null,
      "id": "452a193d-06da-4db4-bbe1-f47b154de04a",
      "metadata": {
        "id": "452a193d-06da-4db4-bbe1-f47b154de04a"
      },
      "outputs": [],
      "source": [
        "# How could you surround each string with an initial and final asterisk character (*)?\n",
        "# Guessed add takes n arguments, wrong, need two arguments at a time\n",
        "np.char.add(np.char.add(\"*\", lumberjack), \"*\")"
      ]
    },
    {
      "cell_type": "code",
      "execution_count": null,
      "id": "d28f1de2-6329-4036-abce-268fd6cc209a",
      "metadata": {
        "id": "d28f1de2-6329-4036-abce-268fd6cc209a"
      },
      "outputs": [],
      "source": [
        "# np.where can be used to make selections.  How can we use this to create a smaller array of those strings that have a length >= 5?\n",
        "# My guess np.where(lumberjack, np.length(lumberjack) >= 5)  Way off."
      ]
    },
    {
      "cell_type": "code",
      "execution_count": null,
      "id": "8d279d64-e5fd-4841-b2a1-4283207afbbd",
      "metadata": {
        "id": "8d279d64-e5fd-4841-b2a1-4283207afbbd"
      },
      "outputs": [],
      "source": [
        "np.where(np.char.str_len(lumberjack) >=5)"
      ]
    },
    {
      "cell_type": "code",
      "execution_count": null,
      "id": "b3c073c8-984e-42d1-85b4-161dd02176ba",
      "metadata": {
        "id": "b3c073c8-984e-42d1-85b4-161dd02176ba"
      },
      "outputs": [],
      "source": [
        "lumberjack[np.where(np.char.str_len(lumberjack) >=5)]"
      ]
    }
  ],
  "metadata": {
    "kernelspec": {
      "display_name": "Python 3 (ipykernel)",
      "language": "python",
      "name": "python3"
    },
    "language_info": {
      "codemirror_mode": {
        "name": "ipython",
        "version": 3
      },
      "file_extension": ".py",
      "mimetype": "text/x-python",
      "name": "python",
      "nbconvert_exporter": "python",
      "pygments_lexer": "ipython3",
      "version": "3.12.7"
    },
    "colab": {
      "provenance": []
    }
  },
  "nbformat": 4,
  "nbformat_minor": 5
}