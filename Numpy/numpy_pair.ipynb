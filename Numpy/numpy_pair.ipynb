{
  "cells": [
    {
      "cell_type": "markdown",
      "metadata": {
        "id": "W2OQHN80N-_V"
      },
      "source": [
        "# NumPy Pair Problem\n",
        "\n",
        "For today's pair, we will use NumPy to complete the following tasks consecutively."
      ]
    },
    {
      "cell_type": "code",
      "execution_count": 101,
      "metadata": {
        "id": "FhuCgNiEN-_X"
      },
      "outputs": [],
      "source": [
        "import numpy as np\n",
        "\n",
        "# Set random seed so that results are reproducible\n",
        "np.random.seed(0)"
      ]
    },
    {
      "cell_type": "markdown",
      "metadata": {
        "id": "nbY5_iG7N-_X"
      },
      "source": [
        "### 1. Generate three separate 1-dimensional arrays of 10,000 elements each.\n",
        "* Array 1 should contain numbers randomly drawn from the uniform distribution between 1 and 100\n",
        "* Array 2 should contain numbers randomly drawn from the normal distribution, with a mean of 0 and a standard deviation of 1\n",
        "* Array 3 should contain numbers randomly drawn from the binomial distribution, where n=10 and p=0.5"
      ]
    },
    {
      "cell_type": "code",
      "execution_count": 102,
      "metadata": {
        "colab": {
          "base_uri": "https://localhost:8080/"
        },
        "id": "3YBvPfveN-_Y",
        "outputId": "2fffcdbd-a2ef-48fe-9f74-ced3c115c675"
      },
      "outputs": [
        {
          "output_type": "execute_result",
          "data": {
            "text/plain": [
              "(10000,)"
            ]
          },
          "metadata": {},
          "execution_count": 102
        }
      ],
      "source": [
        "array1 = np.random.uniform(1, 100, 10000)\n",
        "array2 = np.random.normal(0, 1, 10000)\n",
        "array3 = np.random.binomial(10, 0.5, 10000)\n",
        "array1.shape"
      ]
    },
    {
      "cell_type": "markdown",
      "metadata": {
        "id": "rl1-98zIN-_Y"
      },
      "source": [
        "### 2. For each array, randomly sample 1,000 rows without replacement. (hint: `np.random.choice()`)\n"
      ]
    },
    {
      "cell_type": "code",
      "execution_count": 103,
      "metadata": {
        "id": "xRsa9G42N-_Z"
      },
      "outputs": [],
      "source": [
        "s1 = np.random.choice(array1, 1000)\n",
        "s2 = np.random.choice(array2, 1000)\n",
        "s3 = np.random.choice(array3, 1000)"
      ]
    },
    {
      "cell_type": "markdown",
      "metadata": {
        "id": "GUCpSwnWN-_Z"
      },
      "source": [
        "### 3. For each of the three samples:  \n",
        "- Calculate the mean, median, and standard deviation\n",
        "- Find the index and the value of the largest element (hint: `np.argmax()`)  \n",
        "- Find the value of the 75th percentile (hint: `np.percentile()`)  "
      ]
    },
    {
      "cell_type": "code",
      "execution_count": 104,
      "metadata": {
        "colab": {
          "base_uri": "https://localhost:8080/"
        },
        "id": "8aTEHCdWN-_Z",
        "outputId": "683ba34a-3f92-4a5c-a4ee-0e2ffebc6031"
      },
      "outputs": [
        {
          "output_type": "execute_result",
          "data": {
            "text/plain": [
              "6.0"
            ]
          },
          "metadata": {},
          "execution_count": 104
        }
      ],
      "source": [
        "np.mean(s1)\n",
        "np.median(s1)\n",
        "np.std(s1)\n",
        "np.argmax(s1)\n",
        "np.percentile(s1, 75)\n",
        "\n",
        "np.mean(s2)\n",
        "np.median(s2)\n",
        "np.std(s2)\n",
        "np.argmax(s2)\n",
        "np.percentile(s2, 75)\n",
        "\n",
        "np.mean(s3)\n",
        "np.median(s3)\n",
        "np.std(s3)\n",
        "np.argmax(s3)\n",
        "np.percentile(s3, 75)"
      ]
    },
    {
      "cell_type": "markdown",
      "metadata": {
        "id": "uNnrMSdjN-_Z"
      },
      "source": [
        "### 4. Sort each of the three samples in increasing order, then combine them together to create a 1,000 by 3 array. (hint: `np.sort()` and `np.stack()`). Now, check the shape of the array."
      ]
    },
    {
      "cell_type": "code",
      "execution_count": 105,
      "metadata": {
        "id": "rgcXOtyfN-_a"
      },
      "outputs": [],
      "source": [
        "s1 = np.sort(s1)\n",
        "s2 = np.sort(s2)\n",
        "s3 = np.sort(s3)"
      ]
    },
    {
      "cell_type": "code",
      "execution_count": 106,
      "metadata": {
        "id": "jVvaVS0SN-_a"
      },
      "outputs": [],
      "source": [
        "stack = np.stack((s1, s2, s3) , axis = 1)"
      ]
    },
    {
      "cell_type": "markdown",
      "metadata": {
        "id": "v4LRvQUGN-_a"
      },
      "source": [
        "### 5. Replace all negative values with 0. Replace all values that exceed 10 with 10."
      ]
    },
    {
      "cell_type": "code",
      "execution_count": 107,
      "metadata": {
        "colab": {
          "base_uri": "https://localhost:8080/"
        },
        "id": "kbu9S3DpN-_a",
        "outputId": "eca56069-2192-4a58-dfeb-9ed15aaf5b1a"
      },
      "outputs": [
        {
          "output_type": "execute_result",
          "data": {
            "text/plain": [
              "array([[ 1.01488773,  0.        ,  1.        ],\n",
              "       [ 1.06575764,  0.        ,  1.        ],\n",
              "       [ 1.12840798,  0.        ,  1.        ],\n",
              "       ...,\n",
              "       [10.        ,  2.71614524,  9.        ],\n",
              "       [10.        ,  2.76054867, 10.        ],\n",
              "       [10.        ,  3.22050179, 10.        ]])"
            ]
          },
          "metadata": {},
          "execution_count": 107
        }
      ],
      "source": [
        "\n",
        "stack = np.where(stack < 0, 0, stack)\n",
        "stack = np.where(stack > 10,10,stack)\n",
        "stack"
      ]
    },
    {
      "cell_type": "markdown",
      "metadata": {
        "id": "mQ-J02q8N-_a"
      },
      "source": [
        "### 6. Subtract 5 from all values that exceed 5. (hint: `np.where()`)"
      ]
    },
    {
      "cell_type": "code",
      "execution_count": 108,
      "metadata": {
        "colab": {
          "base_uri": "https://localhost:8080/"
        },
        "id": "vETi9N37N-_a",
        "outputId": "a15632c1-b12b-4c28-a190-dc446dfdaf3f"
      },
      "outputs": [
        {
          "output_type": "execute_result",
          "data": {
            "text/plain": [
              "array([[1.01488773, 0.        , 1.        ],\n",
              "       [1.06575764, 0.        , 1.        ],\n",
              "       [1.12840798, 0.        , 1.        ],\n",
              "       ...,\n",
              "       [5.        , 2.71614524, 4.        ],\n",
              "       [5.        , 2.76054867, 5.        ],\n",
              "       [5.        , 3.22050179, 5.        ]])"
            ]
          },
          "metadata": {},
          "execution_count": 108
        }
      ],
      "source": [
        "np.where(stack > 5, stack - 5,stack)"
      ]
    },
    {
      "cell_type": "code",
      "source": [
        "stack.shape"
      ],
      "metadata": {
        "colab": {
          "base_uri": "https://localhost:8080/"
        },
        "id": "3mlAv-asWVuv",
        "outputId": "be5d1448-bbe6-49dc-ac65-e4f7db6fc059"
      },
      "execution_count": 109,
      "outputs": [
        {
          "output_type": "execute_result",
          "data": {
            "text/plain": [
              "(1000, 3)"
            ]
          },
          "metadata": {},
          "execution_count": 109
        }
      ]
    },
    {
      "cell_type": "markdown",
      "metadata": {
        "id": "0MPr2ptRN-_a"
      },
      "source": [
        "### 7. Produce a fourth column that is the sum of the first two columns.  (hint: `np.hstack()`). Now check the new shape of the array."
      ]
    },
    {
      "cell_type": "code",
      "source": [
        "col4 = stack[:, 0] + stack[:, 1]\n",
        "\n",
        "stack = np.hstack((stack , col4.reshape(1000,1)))\n",
        "stack"
      ],
      "metadata": {
        "colab": {
          "base_uri": "https://localhost:8080/"
        },
        "id": "GUsFajv_VJTm",
        "outputId": "43971b18-b7cd-4950-d008-e394c20eae15"
      },
      "execution_count": 110,
      "outputs": [
        {
          "output_type": "execute_result",
          "data": {
            "text/plain": [
              "array([[ 1.01488773,  0.        ,  1.        ,  1.01488773],\n",
              "       [ 1.06575764,  0.        ,  1.        ,  1.06575764],\n",
              "       [ 1.12840798,  0.        ,  1.        ,  1.12840798],\n",
              "       ...,\n",
              "       [10.        ,  2.71614524,  9.        , 12.71614524],\n",
              "       [10.        ,  2.76054867, 10.        , 12.76054867],\n",
              "       [10.        ,  3.22050179, 10.        , 13.22050179]])"
            ]
          },
          "metadata": {},
          "execution_count": 110
        }
      ]
    },
    {
      "cell_type": "markdown",
      "metadata": {
        "id": "6o9VC7jxN-_a"
      },
      "source": [
        "### 8. Use broadcasting to add 1 to each element of the first column, 2 to each element of the second column, 3 to each element of the third column, and 4 to each element of the fourth column."
      ]
    },
    {
      "cell_type": "code",
      "source": [
        "stack.shape"
      ],
      "metadata": {
        "colab": {
          "base_uri": "https://localhost:8080/"
        },
        "id": "m9HNKey4XGOc",
        "outputId": "6f7b4f6e-0717-4ede-b08f-ab2b14379529"
      },
      "execution_count": 111,
      "outputs": [
        {
          "output_type": "execute_result",
          "data": {
            "text/plain": [
              "(1000, 4)"
            ]
          },
          "metadata": {},
          "execution_count": 111
        }
      ]
    },
    {
      "cell_type": "code",
      "execution_count": 112,
      "metadata": {
        "colab": {
          "base_uri": "https://localhost:8080/"
        },
        "id": "-qvG3ASEN-_a",
        "outputId": "34056e9a-ba0e-478d-94a1-a59373b52365"
      },
      "outputs": [
        {
          "output_type": "execute_result",
          "data": {
            "text/plain": [
              "array([[ 2.01488773,  2.        ,  4.        ,  5.01488773],\n",
              "       [ 2.06575764,  2.        ,  4.        ,  5.06575764],\n",
              "       [ 2.12840798,  2.        ,  4.        ,  5.12840798],\n",
              "       ...,\n",
              "       [11.        ,  4.71614524, 12.        , 16.71614524],\n",
              "       [11.        ,  4.76054867, 13.        , 16.76054867],\n",
              "       [11.        ,  5.22050179, 13.        , 17.22050179]])"
            ]
          },
          "metadata": {},
          "execution_count": 112
        }
      ],
      "source": [
        "stack = stack +np.array([1,2,3,4])\n",
        "stack"
      ]
    },
    {
      "cell_type": "markdown",
      "metadata": {
        "id": "9rn6UJfAN-_b"
      },
      "source": [
        "### 9. Matrix multiply this 1000x4 array by a 4x1 array of ones. How many unique values are in the resulting product?  (hint: `np.unique()`)"
      ]
    },
    {
      "cell_type": "code",
      "execution_count": 113,
      "metadata": {
        "id": "t0Nw-c3tN-_b"
      },
      "outputs": [],
      "source": [
        "stack = np.dot(stack , np.ones(4))\n"
      ]
    },
    {
      "cell_type": "code",
      "source": [
        "np.unique(stack).shape[0]"
      ],
      "metadata": {
        "colab": {
          "base_uri": "https://localhost:8080/"
        },
        "id": "yBo-au3KYDw3",
        "outputId": "cdd79f78-9723-4c0c-9cd2-755b7b14c36a"
      },
      "execution_count": 117,
      "outputs": [
        {
          "output_type": "execute_result",
          "data": {
            "text/plain": [
              "587"
            ]
          },
          "metadata": {},
          "execution_count": 117
        }
      ]
    },
    {
      "cell_type": "markdown",
      "metadata": {
        "id": "zgkmhbv7N-_b"
      },
      "source": [
        "# Thank You"
      ]
    }
  ],
  "metadata": {
    "kernelspec": {
      "display_name": "Python 3 (ipykernel)",
      "language": "python",
      "name": "python3"
    },
    "language_info": {
      "codemirror_mode": {
        "name": "ipython",
        "version": 3
      },
      "file_extension": ".py",
      "mimetype": "text/x-python",
      "name": "python",
      "nbconvert_exporter": "python",
      "pygments_lexer": "ipython3",
      "version": "3.12.7"
    },
    "toc": {
      "base_numbering": 1,
      "nav_menu": {},
      "number_sections": false,
      "sideBar": true,
      "skip_h1_title": false,
      "title_cell": "Table of Contents",
      "title_sidebar": "Contents",
      "toc_cell": false,
      "toc_position": {},
      "toc_section_display": true,
      "toc_window_display": true
    },
    "colab": {
      "provenance": []
    }
  },
  "nbformat": 4,
  "nbformat_minor": 0
}