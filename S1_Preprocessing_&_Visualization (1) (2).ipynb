{
 "cells": [
  {
   "cell_type": "markdown",
   "metadata": {
    "id": "mNRTK_HdZDle"
   },
   "source": [
    "# Numpy Arrays"
   ]
  },
  {
   "cell_type": "markdown",
   "metadata": {
    "id": "tMJxzHnbrpVR"
   },
   "source": [
    "Creating a 1D Numpy Array from a List"
   ]
  },
  {
   "cell_type": "code",
   "execution_count": null,
   "metadata": {
    "colab": {
     "base_uri": "https://localhost:8080/"
    },
    "id": "GssiVwsgrpO5",
    "outputId": "15e46828-53a9-4f6b-b409-ef4aeec3a46e"
   },
   "outputs": [],
   "source": [
    "import numpy as np\n",
    "\n",
    "arr1 = np.array([1, 2, 3, 4, 5])\n",
    "print(arr1)  \n"
   ]
  },
  {
   "cell_type": "markdown",
   "metadata": {
    "id": "mtb8P4gDruur"
   },
   "source": [
    "Creating a 2D Numpy Array from a List of Lists"
   ]
  },
  {
   "cell_type": "code",
   "execution_count": null,
   "metadata": {
    "colab": {
     "base_uri": "https://localhost:8080/"
    },
    "id": "9nMHksp8rupy",
    "outputId": "1a362803-a62f-4b7d-c060-a253819361f1"
   },
   "outputs": [],
   "source": [
    "arr2 = np.array([[1, 2, 3], [4, 5, 6]])\n",
    "print(arr2)  "
   ]
  },
  {
   "cell_type": "markdown",
   "metadata": {
    "id": "x1rBlS5orx2m"
   },
   "source": [
    "Creating an Array of Zeros"
   ]
  },
  {
   "cell_type": "code",
   "execution_count": null,
   "metadata": {
    "colab": {
     "base_uri": "https://localhost:8080/"
    },
    "id": "61eJwSnLrxyq",
    "outputId": "ee0ccdac-bcb3-4558-a569-52dfa20e78f1"
   },
   "outputs": [],
   "source": [
    "zeros = np.zeros((2, 3))\n",
    "print(zeros)\n"
   ]
  },
  {
   "cell_type": "markdown",
   "metadata": {
    "id": "-GTgbfKSrz4r"
   },
   "source": [
    "Creating an Array of Ones"
   ]
  },
  {
   "cell_type": "code",
   "execution_count": null,
   "metadata": {
    "colab": {
     "base_uri": "https://localhost:8080/"
    },
    "id": "4_HGXXKur0IX",
    "outputId": "27e0a27d-5dfc-408b-efc9-566b51ad9374"
   },
   "outputs": [],
   "source": [
    "ones = np.ones((3, 2))\n",
    "print(ones)  \n"
   ]
  },
  {
   "cell_type": "markdown",
   "metadata": {
    "id": "OzR2Pt1Mr2JQ"
   },
   "source": [
    "Creating an Array with a Specific Range"
   ]
  },
  {
   "cell_type": "code",
   "execution_count": null,
   "metadata": {
    "colab": {
     "base_uri": "https://localhost:8080/"
    },
    "id": "1mMRe2w2r2C1",
    "outputId": "b6dc6256-512a-45d1-fc0a-38c525d6e440"
   },
   "outputs": [],
   "source": [
    "range_array = np.arange(10)\n",
    "print(range_array)  \n"
   ]
  },
  {
   "cell_type": "markdown",
   "metadata": {
    "id": "e3zCYFgCr38j"
   },
   "source": [
    "Creating an Array with a Range of Values and Specific Step Size"
   ]
  },
  {
   "cell_type": "code",
   "execution_count": null,
   "metadata": {
    "colab": {
     "base_uri": "https://localhost:8080/"
    },
    "id": "AiPeW1hrr47z",
    "outputId": "0402cd3c-435a-47c9-b476-aacbb1ba05ae"
   },
   "outputs": [],
   "source": [
    "range_step = np.arange(0, 10, 2)\n",
    "print(range_step)  \n"
   ]
  },
  {
   "cell_type": "markdown",
   "metadata": {
    "id": "NmOfLgdysj9n"
   },
   "source": [
    "Creating an Array of Evenly Spaced Values Between Two Numbers"
   ]
  },
  {
   "cell_type": "code",
   "execution_count": null,
   "metadata": {
    "colab": {
     "base_uri": "https://localhost:8080/"
    },
    "id": "saoZohuOsjtR",
    "outputId": "c71e7ed3-c647-4235-f4fe-d221a85a0073"
   },
   "outputs": [],
   "source": [
    "linspace_array = np.linspace(0, 1, 5)\n",
    "print(linspace_array)  \n"
   ]
  },
  {
   "cell_type": "markdown",
   "metadata": {
    "id": "8IumO7awsmaz"
   },
   "source": [
    "Creating an Array with Random Values Between 0 and 1\n"
   ]
  },
  {
   "cell_type": "code",
   "execution_count": null,
   "metadata": {
    "colab": {
     "base_uri": "https://localhost:8080/"
    },
    "id": "8SwiWV_asmWJ",
    "outputId": "2342e59d-97ed-43af-94ae-648ed6f2c799"
   },
   "outputs": [],
   "source": [
    "random_array = np.random.rand(3, 3)\n",
    "print(random_array)\n"
   ]
  },
  {
   "cell_type": "markdown",
   "metadata": {
    "id": "rxrPGSmjsoxC"
   },
   "source": [
    "Creating an Array with Random Integers"
   ]
  },
  {
   "cell_type": "code",
   "execution_count": null,
   "metadata": {
    "colab": {
     "base_uri": "https://localhost:8080/"
    },
    "id": "nnnFuczLso-o",
    "outputId": "08f42270-011e-40ee-d137-9edf87a23c62"
   },
   "outputs": [],
   "source": [
    "random_integers = np.random.randint(1, 10, (2, 2))\n",
    "print(random_integers)\n"
   ]
  },
  {
   "cell_type": "markdown",
   "metadata": {
    "id": "9KE_8m91srWd"
   },
   "source": [
    "Checking the Shape of an Array"
   ]
  },
  {
   "cell_type": "code",
   "execution_count": null,
   "metadata": {
    "colab": {
     "base_uri": "https://localhost:8080/"
    },
    "id": "5SjNuOIXsrQN",
    "outputId": "7ec214ab-7775-410b-c423-e3137553670e"
   },
   "outputs": [],
   "source": [
    "arr = np.array([[1, 2, 3], [4, 5, 6]])\n",
    "print(arr.shape)  \n"
   ]
  },
  {
   "cell_type": "markdown",
   "metadata": {
    "id": "M5UpNsGest-Z"
   },
   "source": [
    "Accessing Data Type of Elements"
   ]
  },
  {
   "cell_type": "code",
   "execution_count": null,
   "metadata": {
    "colab": {
     "base_uri": "https://localhost:8080/"
    },
    "id": "54WYLTBWst44",
    "outputId": "7ae824bd-9370-4c7e-95c5-b3691bc61355"
   },
   "outputs": [],
   "source": [
    "print(arr.dtype) "
   ]
  },
  {
   "cell_type": "markdown",
   "metadata": {
    "id": "VwOEdip2swow"
   },
   "source": [
    "Indexing a 1D Array"
   ]
  },
  {
   "cell_type": "code",
   "execution_count": null,
   "metadata": {
    "colab": {
     "base_uri": "https://localhost:8080/"
    },
    "id": "CgAa99Omswkv",
    "outputId": "a4615f1f-1c28-4380-b6a2-f86cf6d6db7b"
   },
   "outputs": [],
   "source": [
    "arr = np.array([10, 20, 30, 40, 50])\n",
    "print(arr[0])  \n",
    "print(arr[-1])  \n"
   ]
  },
  {
   "cell_type": "markdown",
   "metadata": {
    "id": "_CgIaoGYsy5R"
   },
   "source": [
    "Slicing a 1D Array"
   ]
  },
  {
   "cell_type": "code",
   "execution_count": null,
   "metadata": {
    "colab": {
     "base_uri": "https://localhost:8080/"
    },
    "id": "S2YxH1Pfsy0p",
    "outputId": "f9b87309-3f0c-4913-f794-588a7b361955"
   },
   "outputs": [],
   "source": [
    "print(arr[1:4])  \n"
   ]
  },
  {
   "cell_type": "markdown",
   "metadata": {
    "id": "t9EpOrFWs1FL"
   },
   "source": [
    "Indexing a 2D Array"
   ]
  },
  {
   "cell_type": "code",
   "execution_count": null,
   "metadata": {
    "colab": {
     "base_uri": "https://localhost:8080/"
    },
    "id": "WUvbySp0s1UG",
    "outputId": "2ad248d1-28ce-41b0-ab09-fc379519a8a0"
   },
   "outputs": [],
   "source": [
    "arr = np.array([[1, 2, 3], [4, 5, 6], [7, 8, 9]])\n",
    "print(arr[0, 2]) \n"
   ]
  },
  {
   "cell_type": "markdown",
   "metadata": {
    "id": "_0KiE29ks4Gh"
   },
   "source": [
    "Slicing a 2D Array"
   ]
  },
  {
   "cell_type": "code",
   "execution_count": null,
   "metadata": {
    "colab": {
     "base_uri": "https://localhost:8080/"
    },
    "id": "aktIcK66s3-M",
    "outputId": "1e0d01d8-68b4-4305-8277-05712013b181"
   },
   "outputs": [],
   "source": [
    "print(arr[1:, 1:])  \n",
    "                    \n"
   ]
  },
  {
   "cell_type": "markdown",
   "metadata": {
    "id": "Mu8T9135s6cJ"
   },
   "source": [
    "Element-wise Addition"
   ]
  },
  {
   "cell_type": "code",
   "execution_count": null,
   "metadata": {
    "colab": {
     "base_uri": "https://localhost:8080/"
    },
    "id": "E1Hycgmhs6XD",
    "outputId": "1e05f64e-3c02-4842-9caf-1b3d33cf6b4c"
   },
   "outputs": [],
   "source": [
    "arr1 = np.array([1, 2, 3])\n",
    "arr2 = np.array([4, 5, 6])\n",
    "print(arr1 + arr2)  \n"
   ]
  },
  {
   "cell_type": "markdown",
   "metadata": {
    "id": "V_4Ij4I0s8yG"
   },
   "source": [
    "Array Broadcasting"
   ]
  },
  {
   "cell_type": "code",
   "execution_count": null,
   "metadata": {
    "colab": {
     "base_uri": "https://localhost:8080/"
    },
    "id": "GPAxgNdLs8kY",
    "outputId": "cfb7ceb7-4350-4ae2-ba57-7dbe9dadb3d2"
   },
   "outputs": [],
   "source": [
    "arr = np.array([[1, 2, 3], [4, 5, 6]])\n",
    "print(arr + 10)  # Output: [[11 12 13]\n",
    "                 #          [14 15 16]]\n"
   ]
  },
  {
   "cell_type": "markdown",
   "metadata": {
    "id": "6V3aK1mRs_Hk"
   },
   "source": [
    "Matrix Multiplication"
   ]
  },
  {
   "cell_type": "code",
   "execution_count": null,
   "metadata": {
    "colab": {
     "base_uri": "https://localhost:8080/"
    },
    "id": "g5YVHjKbs--t",
    "outputId": "6dfcd070-4b6e-45ad-8aeb-e2b8b0fb5116"
   },
   "outputs": [],
   "source": [
    "arr1 = np.array([[1, 2], [3, 4]])\n",
    "arr2 = np.array([[5, 6], [7, 8]])\n",
    "print(np.dot(arr1, arr2))  \n",
    "                          \n"
   ]
  },
  {
   "cell_type": "markdown",
   "metadata": {
    "id": "g5nSJFm-tBI-"
   },
   "source": [
    "Calculating Mean and Sum"
   ]
  },
  {
   "cell_type": "code",
   "execution_count": null,
   "metadata": {
    "colab": {
     "base_uri": "https://localhost:8080/"
    },
    "id": "og8pUM-WtBVo",
    "outputId": "a1245f3d-13dd-4448-8615-ef66e65603c1"
   },
   "outputs": [],
   "source": [
    "arr = np.array([1, 2, 3, 4, 5])\n",
    "print(np.mean(arr))  \n",
    "print(np.sum(arr))   \n"
   ]
  },
  {
   "cell_type": "markdown",
   "metadata": {
    "id": "JBe1C8AetDqK"
   },
   "source": [
    "Finding Maximum and Minimum Values"
   ]
  },
  {
   "cell_type": "code",
   "execution_count": null,
   "metadata": {
    "colab": {
     "base_uri": "https://localhost:8080/"
    },
    "id": "bdA82Io7tD2I",
    "outputId": "d14d3b6c-1807-4b60-babf-b237d46e4676"
   },
   "outputs": [],
   "source": [
    "print(np.max(arr))  \n",
    "print(np.min(arr))  \n"
   ]
  },
  {
   "cell_type": "markdown",
   "metadata": {
    "id": "IKyY2sXbZFFG"
   },
   "source": [
    "# Practical Applications"
   ]
  },
  {
   "cell_type": "markdown",
   "metadata": {
    "id": "_o6DJZ_FyipE"
   },
   "source": [
    "Square Matrix"
   ]
  },
  {
   "cell_type": "code",
   "execution_count": null,
   "metadata": {
    "colab": {
     "base_uri": "https://localhost:8080/"
    },
    "id": "25As--eBZE_U",
    "outputId": "65d9004b-2b82-48f8-837a-9d207dfade38"
   },
   "outputs": [],
   "source": [
    "import numpy as np\n",
    "\n",
    "square_matrix = np.array([[1, 2, 3],\n",
    "                          [4, 5, 6],\n",
    "                          [7, 8, 9]])\n",
    "print(\"Square Matrix:\\n\", square_matrix)\n"
   ]
  },
  {
   "cell_type": "markdown",
   "metadata": {
    "id": "I0qaaEYLykuR"
   },
   "source": [
    "Diagonal Matrix"
   ]
  },
  {
   "cell_type": "code",
   "execution_count": null,
   "metadata": {
    "colab": {
     "base_uri": "https://localhost:8080/"
    },
    "id": "MhDd9fASyjlP",
    "outputId": "ec8a6a20-9140-4474-f6d5-b07e6a9f2519"
   },
   "outputs": [],
   "source": [
    "diagonal_matrix = np.diag([1, 2, 3])\n",
    "print(\"Diagonal Matrix:\\n\", diagonal_matrix)\n"
   ]
  },
  {
   "cell_type": "markdown",
   "metadata": {
    "id": "LzFelDnuym1z"
   },
   "source": [
    "Identity Matrix"
   ]
  },
  {
   "cell_type": "code",
   "execution_count": null,
   "metadata": {
    "colab": {
     "base_uri": "https://localhost:8080/"
    },
    "id": "SKNAP96myluv",
    "outputId": "f2e3d5db-ca7f-43de-aa69-f9c6f4bd879e"
   },
   "outputs": [],
   "source": [
    "identity_matrix = np.eye(3)\n",
    "print(\"Identity Matrix:\\n\", identity_matrix)\n"
   ]
  },
  {
   "cell_type": "markdown",
   "metadata": {
    "id": "MpvaFwcWyo5U"
   },
   "source": [
    "Upper Triangular Matrix"
   ]
  },
  {
   "cell_type": "code",
   "execution_count": null,
   "metadata": {
    "colab": {
     "base_uri": "https://localhost:8080/"
    },
    "id": "0a6hWSIrynzn",
    "outputId": "e1afe5e5-634e-4ac4-c3fe-bdcf75c07cca"
   },
   "outputs": [],
   "source": [
    "upper_triangular = np.array([[1, 2, 3],\n",
    "                             [0, 5, 6],\n",
    "                             [0, 0, 9]])\n",
    "print(\"Upper Triangular Matrix:\\n\", upper_triangular)\n"
   ]
  },
  {
   "cell_type": "markdown",
   "metadata": {
    "id": "0oEXEtmayq6W"
   },
   "source": [
    "Lower Triangular Matrix"
   ]
  },
  {
   "cell_type": "code",
   "execution_count": null,
   "metadata": {
    "colab": {
     "base_uri": "https://localhost:8080/"
    },
    "id": "sC0AXIzyypwH",
    "outputId": "7248890e-559a-4dce-b02a-f986744d21e1"
   },
   "outputs": [],
   "source": [
    "lower_triangular = np.array([[1, 0, 0],\n",
    "                             [4, 5, 0],\n",
    "                             [7, 8, 9]])\n",
    "print(\"Lower Triangular Matrix:\\n\", lower_triangular)\n"
   ]
  },
  {
   "cell_type": "markdown",
   "metadata": {
    "id": "s1kKKHy-ysxj"
   },
   "source": [
    "Symmetric Matrix"
   ]
  },
  {
   "cell_type": "code",
   "execution_count": null,
   "metadata": {
    "colab": {
     "base_uri": "https://localhost:8080/"
    },
    "id": "1nXU6j6-yryv",
    "outputId": "deb0f33f-6da8-4464-fd09-32dbf476fdbf"
   },
   "outputs": [],
   "source": [
    "symmetric_matrix = np.array([[1, 2, 3],\n",
    "                             [2, 5, 6],\n",
    "                             [3, 6, 9]])\n",
    "print(\"Symmetric Matrix:\\n\", symmetric_matrix)\n"
   ]
  },
  {
   "cell_type": "markdown",
   "metadata": {
    "id": "KJ6Oh-utyvBs"
   },
   "source": [
    "Transpose of a Matrix"
   ]
  },
  {
   "cell_type": "code",
   "execution_count": null,
   "metadata": {
    "colab": {
     "base_uri": "https://localhost:8080/"
    },
    "id": "U8pAgZ66ytqf",
    "outputId": "32f517ed-78f1-4f84-fad3-fd35442c8cee"
   },
   "outputs": [],
   "source": [
    "matrix = np.array([[1, 2, 3],\n",
    "                   [4, 5, 6]])\n",
    "transpose_matrix = np.transpose(matrix)\n",
    "print(\"Original Matrix:\\n\", matrix)\n",
    "print(\"Transpose of Matrix:\\n\", transpose_matrix)\n"
   ]
  },
  {
   "cell_type": "markdown",
   "metadata": {
    "id": "cWiwaPx1yyAP"
   },
   "source": [
    "Trace of a Matrix"
   ]
  },
  {
   "cell_type": "code",
   "execution_count": null,
   "metadata": {
    "colab": {
     "base_uri": "https://localhost:8080/"
    },
    "id": "OxPrVNtuyv63",
    "outputId": "d15f66bf-e4c9-4f20-ef3c-ede0f2e924c8"
   },
   "outputs": [],
   "source": [
    "matrix = np.array([[1, 2, 3],\n",
    "                   [4, 5, 6],\n",
    "                   [7, 8, 9]])\n",
    "trace = np.trace(matrix)\n",
    "print(\"Trace of Matrix:\", trace)\n"
   ]
  },
  {
   "cell_type": "markdown",
   "metadata": {
    "id": "fJ5q-zCRy0az"
   },
   "source": [
    "Determinant of a Matrix"
   ]
  },
  {
   "cell_type": "code",
   "execution_count": null,
   "metadata": {
    "colab": {
     "base_uri": "https://localhost:8080/"
    },
    "id": "TIFLugxJywfn",
    "outputId": "9cb9675a-10a9-4975-de9e-b04b9bf8edef"
   },
   "outputs": [],
   "source": [
    "matrix = np.array([[4, 6],\n",
    "                   [3, 8]])\n",
    "determinant = np.linalg.det(matrix)\n",
    "print(\"Determinant of Matrix:\", determinant)\n"
   ]
  },
  {
   "cell_type": "markdown",
   "metadata": {
    "id": "-GxYHSjhy2oF"
   },
   "source": [
    "Inverse of a Matrix"
   ]
  },
  {
   "cell_type": "code",
   "execution_count": null,
   "metadata": {
    "colab": {
     "base_uri": "https://localhost:8080/"
    },
    "id": "BcI-eoiby1aH",
    "outputId": "5077b0eb-68c7-4739-f198-f096945d9c8d"
   },
   "outputs": [],
   "source": [
    "matrix = np.array([[1, 2],\n",
    "                   [3, 4]])\n",
    "inverse_matrix = np.linalg.inv(matrix)\n",
    "print(\"Inverse of Matrix:\\n\", inverse_matrix)\n"
   ]
  },
  {
   "cell_type": "markdown",
   "metadata": {
    "id": "GIDqUwhly4kS"
   },
   "source": [
    "Rank of a Matrix"
   ]
  },
  {
   "cell_type": "code",
   "execution_count": null,
   "metadata": {
    "colab": {
     "base_uri": "https://localhost:8080/"
    },
    "id": "qvcCL4tqy3fI",
    "outputId": "f319c2a4-8396-4f92-f8cc-e1cd4603c2ee"
   },
   "outputs": [],
   "source": [
    "matrix = np.array([[1, 2, 3],\n",
    "                   [4, 5, 6],\n",
    "                   [7, 8, 9]])\n",
    "rank = np.linalg.matrix_rank(matrix)\n",
    "print(\"Rank of Matrix:\", rank)\n"
   ]
  }
 ],
 "metadata": {
  "colab": {
   "collapsed_sections": [
    "mNRTK_HdZDle"
   ],
   "provenance": []
  },
  "kernelspec": {
   "display_name": "Python 3 (ipykernel)",
   "language": "python",
   "name": "python3"
  },
  "language_info": {
   "name": "python"
  }
 },
 "nbformat": 4,
 "nbformat_minor": 4
}
